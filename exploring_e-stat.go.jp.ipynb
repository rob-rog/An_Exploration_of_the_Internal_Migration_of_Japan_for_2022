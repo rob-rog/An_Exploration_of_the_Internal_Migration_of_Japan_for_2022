{
 "cells": [
  {
   "cell_type": "code",
   "execution_count": 1,
   "id": "51bb260d",
   "metadata": {
    "scrolled": true
   },
   "outputs": [],
   "source": [
    "#!pip install jpstat geojson folium shapely plotly topojson chardet geopandas pytopojson matplotlib folium\n",
    "\n",
    "import geopandas as gpd\n",
    "import topojson as tp\n",
    "import jpstat\n",
    "import pandas as pd\n",
    "#import geojson\n",
    "import requests\n",
    "#import folium\n",
    "import plotly.express as px\n",
    "#from shapely.geometry import shape\n",
    "#from urllib.request import urlopen\n",
    "import json\n",
    "from pytopojson import topology, feature\n",
    "import matplotlib.pyplot as plt\n",
    "import folium"
   ]
  },
  {
   "cell_type": "code",
   "execution_count": 2,
   "id": "6bef537b",
   "metadata": {},
   "outputs": [],
   "source": [
    "stat = jpstat.estat.get_stat(key='9172300186e42e3c1e0acd0ce205021a2f27f28b')\n",
    "jpstat.options[\"estat.api_key\"] = '9172300186e42e3c1e0acd0ce205021a2f27f28b'"
   ]
  },
  {
   "cell_type": "code",
   "execution_count": 3,
   "id": "9d12f67b",
   "metadata": {},
   "outputs": [
    {
     "name": "stdout",
     "output_type": "stream",
     "text": [
      ".."
     ]
    }
   ],
   "source": [
    "data, note = jpstat.estat.get_data(statsDataId=\"0004003462\")\n",
    "#data.sample(n=4)\n",
    "#note"
   ]
  },
  {
   "cell_type": "code",
   "execution_count": 4,
   "id": "111ac453",
   "metadata": {},
   "outputs": [],
   "source": [
    "data = data.loc[(data[\"国籍\"] == \"移動者\") & (data[\"移動前の住所地（前住地）2020～\"] == \"総数(前住地)\")]"
   ]
  },
  {
   "cell_type": "code",
   "execution_count": 5,
   "id": "94a416b4",
   "metadata": {},
   "outputs": [],
   "source": [
    "pref = pd.DataFrame(data={'En': ['Hokkaido', 'Aomori', 'Iwate', 'Miyagi', 'Akita', 'Yamagata', 'Fukushima', 'Ibaraki', 'Tochigi', 'Gunma', 'Saitama', \n",
    "                                 'Chiba', 'Tokyo', 'Kanagawa', 'Niigata', 'Toyama', 'Ishikawa', 'Fukui', 'Yamanashi', 'Nagano', 'Gifu', 'Shizuoka', \n",
    "                                 'Aichi', 'Mie', 'Shiga', 'Kyoto', 'Osaka', 'Hyogo', 'Nara', 'Wakayama', 'Tottori', 'Shimane', 'Okayama', 'Hiroshima', \n",
    "                                 'Yamaguchi', 'Tokushima', 'Kagawa', 'Ehime', 'Kochi', 'Fukuoka', 'Saga', 'Nagasaki', 'Kumamoto', 'Oita', 'Miyazaki', \n",
    "                                 'Kagoshima', 'Okinawa'], \n",
    "                          'Ja': ['北海道', '青森県', '岩手県', '宮城県', '秋田県', '山形県', '福島県', '茨城県', '栃木県', '群馬県', '埼玉県', '千葉県', \n",
    "                                 '東京都', '神奈川県', '新潟県', '富山県', '石川県', '福井県', '山梨県', '長野県', '岐阜県', '静岡県', '愛知県', '三重県', \n",
    "                                 '滋賀県', '京都府', '大阪府', '兵庫県', '奈良県', '和歌山県', '鳥取県', '島根県', '岡山県', '広島県', '山口県', '徳島県', \n",
    "                                 '香川県', '愛媛県', '高知県', '福岡県', '佐賀県', '長崎県', '熊本県', '大分県', '宮崎県', '鹿児島県', '沖縄県'], \n",
    "                          'ISO': ['JP-01', 'JP-02', 'JP-03', 'JP-04', 'JP-05', 'JP-06', 'JP-07', 'JP-08', 'JP-09', 'JP-10', 'JP-11', 'JP-12', 'JP-13', \n",
    "                                  'JP-14', 'JP-15', 'JP-16', 'JP-17', 'JP-18', 'JP-19', 'JP-20', 'JP-21', 'JP-22', 'JP-23', 'JP-24', 'JP-25', 'JP-26', \n",
    "                                  'JP-27', 'JP-28', 'JP-29', 'JP-30', 'JP-31', 'JP-32', 'JP-33', 'JP-34', 'JP-35', 'JP-36', 'JP-37', 'JP-38', 'JP-39', \n",
    "                                  'JP-40', 'JP-41', 'JP-42', 'JP-43', 'JP-44', 'JP-45', 'JP-46', 'JP-47'],\n",
    "                          'id': [1, 2, 3, 4, 5, 6, 7, 8, 9, 10, 11, 12, 13, 14, 15, 16, 17, 18, 19, 20, 21, 22, 23, 24, 25, 26, 27, 28, 29, 30, 31, 32, \n",
    "                                 33, 34, 35, 36, 37, 38, 39, 40, 41, 42, 43, 44, 45, 46, 47]})\n",
    "\n",
    "joined_data = data.join(pref.set_index('Ja'), on='移動後の住所地（現住地）2020～', how='right')\n",
    "#data['移動後の住所地（現住地）2020～']['香川県']\n",
    "#data.filter(items=pref.keys())\n",
    "#type(joined_data[\"id\"][0])"
   ]
  },
  {
   "cell_type": "code",
   "execution_count": 6,
   "id": "c168d59c",
   "metadata": {},
   "outputs": [],
   "source": [
    "# コロプレス図の中心\n",
    "CENTER = {'lat': 36, 'lon': 140}"
   ]
  },
  {
   "cell_type": "code",
   "execution_count": 10,
   "id": "c494a055",
   "metadata": {},
   "outputs": [],
   "source": [
    "#japan_geo = requests.get(\"https://raw.githubusercontent.com/dataofjapan/land/master/japan.topojson\").json()\n",
    "#m = folium.Map(location=[36, 138], zoom_start=5)\n",
    "\n",
    "prefectures = requests.get(\n",
    "    'https://raw.githubusercontent.com/dataofjapan/land/92934a149860bc23b529ccbeba1e8366b30b0c63/japan.geojson')\n",
    "\n",
    "jpn = gpd.read_file(prefectures.text)"
   ]
  },
  {
   "cell_type": "code",
   "execution_count": 11,
   "id": "94db3cec",
   "metadata": {},
   "outputs": [
    {
     "ename": "KeyError",
     "evalue": "\"None of ['ID'] are in the columns\"",
     "output_type": "error",
     "traceback": [
      "\u001b[1;31m---------------------------------------------------------------------------\u001b[0m",
      "\u001b[1;31mKeyError\u001b[0m                                  Traceback (most recent call last)",
      "\u001b[1;32m~\\AppData\\Local\\Temp\\ipykernel_8440\\400641482.py\u001b[0m in \u001b[0;36m?\u001b[1;34m()\u001b[0m\n\u001b[1;32m----> 1\u001b[1;33m \u001b[0mjpn\u001b[0m\u001b[1;33m.\u001b[0m\u001b[0mset_index\u001b[0m\u001b[1;33m(\u001b[0m\u001b[1;34m'ID'\u001b[0m\u001b[1;33m,\u001b[0m \u001b[0mdrop\u001b[0m\u001b[1;33m=\u001b[0m\u001b[1;32mFalse\u001b[0m\u001b[1;33m,\u001b[0m \u001b[0minplace\u001b[0m\u001b[1;33m=\u001b[0m\u001b[1;32mTrue\u001b[0m\u001b[1;33m)\u001b[0m\u001b[1;33m\u001b[0m\u001b[1;33m\u001b[0m\u001b[0m\n\u001b[0m\u001b[0;32m      2\u001b[0m \u001b[1;33m\u001b[0m\u001b[0m\n\u001b[0;32m      3\u001b[0m \u001b[0mprint\u001b[0m\u001b[1;33m(\u001b[0m\u001b[0mjpn\u001b[0m\u001b[1;33m.\u001b[0m\u001b[0minfo\u001b[0m\u001b[1;33m(\u001b[0m\u001b[1;33m)\u001b[0m\u001b[1;33m)\u001b[0m\u001b[1;33m\u001b[0m\u001b[1;33m\u001b[0m\u001b[0m\n\u001b[0;32m      4\u001b[0m \u001b[0mdisplay\u001b[0m\u001b[1;33m(\u001b[0m\u001b[0mjpn\u001b[0m\u001b[1;33m.\u001b[0m\u001b[0mhead\u001b[0m\u001b[1;33m(\u001b[0m\u001b[1;33m)\u001b[0m\u001b[1;33m)\u001b[0m\u001b[1;33m\u001b[0m\u001b[1;33m\u001b[0m\u001b[0m\n",
      "\u001b[1;32mC:\\Download\\anaconda\\envs\\python_3_9_18\\lib\\site-packages\\pandas\\util\\_decorators.py\u001b[0m in \u001b[0;36m?\u001b[1;34m(*args, **kwargs)\u001b[0m\n\u001b[0;32m    327\u001b[0m                     \u001b[0mmsg\u001b[0m\u001b[1;33m.\u001b[0m\u001b[0mformat\u001b[0m\u001b[1;33m(\u001b[0m\u001b[0marguments\u001b[0m\u001b[1;33m=\u001b[0m\u001b[0m_format_argument_list\u001b[0m\u001b[1;33m(\u001b[0m\u001b[0mallow_args\u001b[0m\u001b[1;33m)\u001b[0m\u001b[1;33m)\u001b[0m\u001b[1;33m,\u001b[0m\u001b[1;33m\u001b[0m\u001b[1;33m\u001b[0m\u001b[0m\n\u001b[0;32m    328\u001b[0m                     \u001b[0mFutureWarning\u001b[0m\u001b[1;33m,\u001b[0m\u001b[1;33m\u001b[0m\u001b[1;33m\u001b[0m\u001b[0m\n\u001b[0;32m    329\u001b[0m                     \u001b[0mstacklevel\u001b[0m\u001b[1;33m=\u001b[0m\u001b[0mfind_stack_level\u001b[0m\u001b[1;33m(\u001b[0m\u001b[1;33m)\u001b[0m\u001b[1;33m,\u001b[0m\u001b[1;33m\u001b[0m\u001b[1;33m\u001b[0m\u001b[0m\n\u001b[0;32m    330\u001b[0m                 )\n\u001b[1;32m--> 331\u001b[1;33m             \u001b[1;32mreturn\u001b[0m \u001b[0mfunc\u001b[0m\u001b[1;33m(\u001b[0m\u001b[1;33m*\u001b[0m\u001b[0margs\u001b[0m\u001b[1;33m,\u001b[0m \u001b[1;33m**\u001b[0m\u001b[0mkwargs\u001b[0m\u001b[1;33m)\u001b[0m\u001b[1;33m\u001b[0m\u001b[1;33m\u001b[0m\u001b[0m\n\u001b[0m",
      "\u001b[1;32mC:\\Download\\anaconda\\envs\\python_3_9_18\\lib\\site-packages\\pandas\\core\\frame.py\u001b[0m in \u001b[0;36m?\u001b[1;34m(self, keys, drop, append, inplace, verify_integrity)\u001b[0m\n\u001b[0;32m   6008\u001b[0m                     \u001b[1;32mif\u001b[0m \u001b[1;32mnot\u001b[0m \u001b[0mfound\u001b[0m\u001b[1;33m:\u001b[0m\u001b[1;33m\u001b[0m\u001b[1;33m\u001b[0m\u001b[0m\n\u001b[0;32m   6009\u001b[0m                         \u001b[0mmissing\u001b[0m\u001b[1;33m.\u001b[0m\u001b[0mappend\u001b[0m\u001b[1;33m(\u001b[0m\u001b[0mcol\u001b[0m\u001b[1;33m)\u001b[0m\u001b[1;33m\u001b[0m\u001b[1;33m\u001b[0m\u001b[0m\n\u001b[0;32m   6010\u001b[0m \u001b[1;33m\u001b[0m\u001b[0m\n\u001b[0;32m   6011\u001b[0m         \u001b[1;32mif\u001b[0m \u001b[0mmissing\u001b[0m\u001b[1;33m:\u001b[0m\u001b[1;33m\u001b[0m\u001b[1;33m\u001b[0m\u001b[0m\n\u001b[1;32m-> 6012\u001b[1;33m             \u001b[1;32mraise\u001b[0m \u001b[0mKeyError\u001b[0m\u001b[1;33m(\u001b[0m\u001b[1;34mf\"None of {missing} are in the columns\"\u001b[0m\u001b[1;33m)\u001b[0m\u001b[1;33m\u001b[0m\u001b[1;33m\u001b[0m\u001b[0m\n\u001b[0m\u001b[0;32m   6013\u001b[0m \u001b[1;33m\u001b[0m\u001b[0m\n\u001b[0;32m   6014\u001b[0m         \u001b[1;32mif\u001b[0m \u001b[0minplace\u001b[0m\u001b[1;33m:\u001b[0m\u001b[1;33m\u001b[0m\u001b[1;33m\u001b[0m\u001b[0m\n\u001b[0;32m   6015\u001b[0m             \u001b[0mframe\u001b[0m \u001b[1;33m=\u001b[0m \u001b[0mself\u001b[0m\u001b[1;33m\u001b[0m\u001b[1;33m\u001b[0m\u001b[0m\n",
      "\u001b[1;31mKeyError\u001b[0m: \"None of ['ID'] are in the columns\""
     ]
    }
   ],
   "source": [
    "jpn.set_index('ID', drop=False, inplace=True)\n",
    "  \n",
    "print(jpn.info())\n",
    "display(jpn.head())"
   ]
  },
  {
   "cell_type": "code",
   "execution_count": 94,
   "id": "0bc18900",
   "metadata": {},
   "outputs": [
    {
     "data": {
      "text/plain": [
       "numpy.int32"
      ]
     },
     "execution_count": 94,
     "metadata": {},
     "output_type": "execute_result"
    }
   ],
   "source": [
    "joined_data['id'] = joined_data['id'].astype(int)\n",
    "type(joined_data[\"id\"][0])"
   ]
  },
  {
   "cell_type": "code",
   "execution_count": 96,
   "id": "0e5bbd9b",
   "metadata": {},
   "outputs": [],
   "source": [
    "japan_geo_ids = [geo[\"properties\"][\"id\"] for geo in japan_geo[\"objects\"][\"japan\"][\"geometries\"]]"
   ]
  },
  {
   "cell_type": "code",
   "execution_count": 105,
   "id": "be2058bf",
   "metadata": {},
   "outputs": [
    {
     "name": "stdout",
     "output_type": "stream",
     "text": [
      "Empty DataFrame\n",
      "Columns: [@unit, 表章項目, 移動後の住所地（現住地）2020～, 国籍, 移動前の住所地（前住地）2020～, 時間軸, Value, En, ISO, id]\n",
      "Index: []\n"
     ]
    }
   ],
   "source": [
    "is_in_joined_data = joined_data[\"id\"].isin(japan_geo_ids)\n",
    "not_in_joined_data = joined_data[~is_in_joined_data]\n",
    "print(not_in_joined_data)"
   ]
  },
  {
   "cell_type": "code",
   "execution_count": 114,
   "id": "1464ab4e",
   "metadata": {},
   "outputs": [
    {
     "name": "stdout",
     "output_type": "stream",
     "text": [
      "dict_keys(['scale', 'translate'])\n"
     ]
    }
   ],
   "source": [
    "print(japan_geo[\"transform\"].keys())"
   ]
  },
  {
   "cell_type": "code",
   "execution_count": 95,
   "id": "318aae7e",
   "metadata": {
    "scrolled": false
   },
   "outputs": [
    {
     "ename": "TypeError",
     "evalue": "ufunc 'isnan' not supported for the input types, and the inputs could not be safely coerced to any supported types according to the casting rule ''safe''",
     "output_type": "error",
     "traceback": [
      "\u001b[1;31m---------------------------------------------------------------------------\u001b[0m",
      "\u001b[1;31mTypeError\u001b[0m                                 Traceback (most recent call last)",
      "Cell \u001b[1;32mIn[95], line 1\u001b[0m\n\u001b[1;32m----> 1\u001b[0m \u001b[43mfolium\u001b[49m\u001b[38;5;241;43m.\u001b[39;49m\u001b[43mChoropleth\u001b[49m\u001b[43m(\u001b[49m\n\u001b[0;32m      2\u001b[0m \u001b[43m    \u001b[49m\u001b[43mgeo_data\u001b[49m\u001b[38;5;241;43m=\u001b[39;49m\u001b[43mjapan_geo\u001b[49m\u001b[43m,\u001b[49m\n\u001b[0;32m      3\u001b[0m \u001b[43m    \u001b[49m\u001b[43mname\u001b[49m\u001b[38;5;241;43m=\u001b[39;49m\u001b[38;5;124;43m\"\u001b[39;49m\u001b[38;5;124;43mchoropleth\u001b[39;49m\u001b[38;5;124;43m\"\u001b[39;49m\u001b[43m,\u001b[49m\n\u001b[0;32m      4\u001b[0m \u001b[43m    \u001b[49m\u001b[43mdata\u001b[49m\u001b[38;5;241;43m=\u001b[39;49m\u001b[43mjoined_data\u001b[49m\u001b[43m,\u001b[49m\n\u001b[0;32m      5\u001b[0m \u001b[43m    \u001b[49m\u001b[43mcolumns\u001b[49m\u001b[38;5;241;43m=\u001b[39;49m\u001b[43m[\u001b[49m\u001b[38;5;124;43m\"\u001b[39;49m\u001b[38;5;124;43m移動後の住所地（現住地）2020～\u001b[39;49m\u001b[38;5;124;43m\"\u001b[39;49m\u001b[43m,\u001b[49m\u001b[43m \u001b[49m\u001b[38;5;124;43m\"\u001b[39;49m\u001b[38;5;124;43mValue\u001b[39;49m\u001b[38;5;124;43m\"\u001b[39;49m\u001b[43m]\u001b[49m\u001b[43m,\u001b[49m\n\u001b[0;32m      6\u001b[0m \u001b[43m    \u001b[49m\u001b[43mtopojson\u001b[49m\u001b[38;5;241;43m=\u001b[39;49m\u001b[38;5;124;43m\"\u001b[39;49m\u001b[38;5;124;43mobjects.japan\u001b[39;49m\u001b[38;5;124;43m\"\u001b[39;49m\u001b[43m,\u001b[49m\n\u001b[0;32m      7\u001b[0m \u001b[43m    \u001b[49m\u001b[43mkey_on\u001b[49m\u001b[38;5;241;43m=\u001b[39;49m\u001b[38;5;124;43m\"\u001b[39;49m\u001b[38;5;124;43mfeature.properties.nam_ja\u001b[39;49m\u001b[38;5;124;43m\"\u001b[39;49m\u001b[43m,\u001b[49m\n\u001b[0;32m      8\u001b[0m \u001b[43m    \u001b[49m\u001b[43mfill_color\u001b[49m\u001b[38;5;241;43m=\u001b[39;49m\u001b[38;5;124;43m\"\u001b[39;49m\u001b[38;5;124;43mYlGn\u001b[39;49m\u001b[38;5;124;43m\"\u001b[39;49m\u001b[43m,\u001b[49m\n\u001b[0;32m      9\u001b[0m \u001b[43m    \u001b[49m\u001b[43mfill_opacity\u001b[49m\u001b[38;5;241;43m=\u001b[39;49m\u001b[38;5;241;43m0.7\u001b[39;49m\u001b[43m,\u001b[49m\n\u001b[0;32m     10\u001b[0m \u001b[43m    \u001b[49m\u001b[43mline_opacity\u001b[49m\u001b[38;5;241;43m=\u001b[39;49m\u001b[38;5;241;43m0.2\u001b[39;49m\u001b[43m,\u001b[49m\n\u001b[0;32m     11\u001b[0m \u001b[43m    \u001b[49m\u001b[43mlegend_name\u001b[49m\u001b[38;5;241;43m=\u001b[39;49m\u001b[38;5;124;43m\"\u001b[39;49m\u001b[38;5;124;43mTotal Number of People Who Moved to Location\u001b[39;49m\u001b[38;5;124;43m\"\u001b[39;49m\u001b[43m)\u001b[49m\u001b[38;5;241m.\u001b[39madd_to(m)\n\u001b[0;32m     13\u001b[0m folium\u001b[38;5;241m.\u001b[39mLayerControl()\u001b[38;5;241m.\u001b[39madd_to(m)\n\u001b[0;32m     15\u001b[0m m\n",
      "File \u001b[1;32mC:\\Download\\anaconda\\envs\\python_3_9_18\\lib\\site-packages\\folium\\features.py:1510\u001b[0m, in \u001b[0;36mChoropleth.__init__\u001b[1;34m(self, geo_data, data, columns, key_on, bins, fill_color, nan_fill_color, fill_opacity, nan_fill_opacity, line_color, line_weight, line_opacity, name, legend_name, overlay, control, show, topojson, smooth_factor, highlight, use_jenks, **kwargs)\u001b[0m\n\u001b[0;32m   1508\u001b[0m \u001b[38;5;28;01mif\u001b[39;00m color_data \u001b[38;5;129;01mis\u001b[39;00m \u001b[38;5;129;01mnot\u001b[39;00m \u001b[38;5;28;01mNone\u001b[39;00m \u001b[38;5;129;01mand\u001b[39;00m key_on \u001b[38;5;129;01mis\u001b[39;00m \u001b[38;5;129;01mnot\u001b[39;00m \u001b[38;5;28;01mNone\u001b[39;00m:\n\u001b[0;32m   1509\u001b[0m     real_values \u001b[38;5;241m=\u001b[39m np\u001b[38;5;241m.\u001b[39marray(\u001b[38;5;28mlist\u001b[39m(color_data\u001b[38;5;241m.\u001b[39mvalues()))\n\u001b[1;32m-> 1510\u001b[0m     real_values \u001b[38;5;241m=\u001b[39m real_values[\u001b[38;5;241m~\u001b[39m\u001b[43mnp\u001b[49m\u001b[38;5;241;43m.\u001b[39;49m\u001b[43misnan\u001b[49m\u001b[43m(\u001b[49m\u001b[43mreal_values\u001b[49m\u001b[43m)\u001b[49m]\n\u001b[0;32m   1511\u001b[0m     \u001b[38;5;28;01mif\u001b[39;00m use_jenks:\n\u001b[0;32m   1512\u001b[0m         \u001b[38;5;28;01mfrom\u001b[39;00m \u001b[38;5;21;01mjenkspy\u001b[39;00m \u001b[38;5;28;01mimport\u001b[39;00m jenks_breaks\n",
      "\u001b[1;31mTypeError\u001b[0m: ufunc 'isnan' not supported for the input types, and the inputs could not be safely coerced to any supported types according to the casting rule ''safe''"
     ]
    }
   ],
   "source": [
    "folium.Choropleth(\n",
    "    geo_data=japan_geo,\n",
    "    name=\"choropleth\",\n",
    "    data=joined_data,\n",
    "    columns=[\"移動後の住所地（現住地）2020～\", \"Value\"],\n",
    "    topojson=\"objects.japan\",\n",
    "    key_on=\"feature.properties.nam_ja\",\n",
    "    fill_color=\"YlGn\",\n",
    "    fill_opacity=0.7,\n",
    "    line_opacity=0.2,\n",
    "    legend_name=\"Total Number of People Who Moved to Location\").add_to(m)\n",
    "\n",
    "folium.LayerControl().add_to(m)\n",
    "\n",
    "m"
   ]
  },
  {
   "cell_type": "code",
   "execution_count": 18,
   "id": "67440b9c-6421-4c65-bc8f-1693afc14d92",
   "metadata": {},
   "outputs": [],
   "source": [
    "# Fetch the GeoJSON content from the URL\n",
    "#prefectures = requests.get(\n",
    "#    'https://raw.githubusercontent.com/dataofjapan/land/92934a149860bc23b529ccbeba1e8366b30b0c63/japan.geojson')\n",
    "\n",
    "#prefectures =  geojson.loads(prefectures.text)\n",
    "\n",
    "#japan_geojson_url = 'https://raw.githubusercontent.com/dataofjapan/land/92934a149860bc23b529ccbeba1e8366b30b0c63/japan.geojson'\n",
    "#japan_geojson = geojson.loads(requests.get(japan_geojson_url).text)\n",
    "\n",
    "# Fetch the TopoJSON content from the URL\n",
    "japan_topojson_url = 'https://raw.githubusercontent.com/dataofjapan/land/master/japan.topojson'\n",
    "japan_topojson_request = requests.get(japan_topojson_url).json()"
   ]
  },
  {
   "cell_type": "code",
   "execution_count": 20,
   "id": "967e0c20",
   "metadata": {},
   "outputs": [
    {
     "ename": "AttributeError",
     "evalue": "module 'topojson' has no attribute 'feature'",
     "output_type": "error",
     "traceback": [
      "\u001b[1;31m---------------------------------------------------------------------------\u001b[0m",
      "\u001b[1;31mAttributeError\u001b[0m                            Traceback (most recent call last)",
      "Cell \u001b[1;32mIn[20], line 2\u001b[0m\n\u001b[0;32m      1\u001b[0m \u001b[38;5;66;03m# Convert TopoJSON to GeoJSON\u001b[39;00m\n\u001b[1;32m----> 2\u001b[0m japan_geojson \u001b[38;5;241m=\u001b[39m \u001b[43mtopojson\u001b[49m\u001b[38;5;241;43m.\u001b[39;49m\u001b[43mfeature\u001b[49m(japan_topojson_request)\n",
      "\u001b[1;31mAttributeError\u001b[0m: module 'topojson' has no attribute 'feature'"
     ]
    }
   ],
   "source": [
    "# Convert TopoJSON to GeoJSON\n",
    "japan_geojson = topojson.feature(japan_topojson_request)"
   ]
  },
  {
   "cell_type": "code",
   "execution_count": 6,
   "id": "ed450cd9",
   "metadata": {},
   "outputs": [
    {
     "ename": "AttributeError",
     "evalue": "module 'topojson' has no attribute 'topology'",
     "output_type": "error",
     "traceback": [
      "\u001b[1;31m---------------------------------------------------------------------------\u001b[0m",
      "\u001b[1;31mAttributeError\u001b[0m                            Traceback (most recent call last)",
      "Cell \u001b[1;32mIn[6], line 2\u001b[0m\n\u001b[0;32m      1\u001b[0m \u001b[38;5;66;03m# Convert TopoJSON to GeoJSON\u001b[39;00m\n\u001b[1;32m----> 2\u001b[0m japan_topojson \u001b[38;5;241m=\u001b[39m \u001b[43mtp\u001b[49m\u001b[38;5;241;43m.\u001b[39;49m\u001b[43mtopology\u001b[49m(japan_topojson_request)\n\u001b[0;32m      4\u001b[0m features \u001b[38;5;241m=\u001b[39m japan_topojson[\u001b[38;5;124m'\u001b[39m\u001b[38;5;124mfeatures\u001b[39m\u001b[38;5;124m'\u001b[39m]\n\u001b[0;32m      5\u001b[0m ids \u001b[38;5;241m=\u001b[39m \u001b[38;5;28msorted\u001b[39m(\u001b[38;5;28mset\u001b[39m([feature[\u001b[38;5;124m'\u001b[39m\u001b[38;5;124mproperties\u001b[39m\u001b[38;5;124m'\u001b[39m][\u001b[38;5;124m'\u001b[39m\u001b[38;5;124mid\u001b[39m\u001b[38;5;124m'\u001b[39m] \u001b[38;5;28;01mfor\u001b[39;00m feature \u001b[38;5;129;01min\u001b[39;00m features]))\n",
      "\u001b[1;31mAttributeError\u001b[0m: module 'topojson' has no attribute 'topology'"
     ]
    }
   ],
   "source": [
    "# Convert TopoJSON to GeoJSON\n",
    "japan_topojson = tp.topology(japan_topojson_request)\n",
    "\n",
    "features = japan_topojson['features']\n",
    "ids = sorted(set([feature['properties']['id'] for feature in features]))\n",
    "\n",
    "new_features = []\n",
    "\n",
    "for id in ids:\n",
    "    data = [feature['geometry']['coordinates'][0][0] for feature in features if feature['properties']['id'] == id]\n",
    "    \n",
    "    if len(data) == 1:\n",
    "        feature = dict(type=\"Feature\", geometry=dict(type=\"Polygon\", coordinates=data[0]), properties=dict(id=id))\n",
    "    else:\n",
    "        feature = dict(type=\"Feature\", geometry=dict(type=\"MultiPolygon\", coordinates=data), properties=dict(id=id))\n",
    "    \n",
    "    new_features.append(feature)\n",
    "\n",
    "japan_topojson['features'] = new_features"
   ]
  },
  {
   "cell_type": "code",
   "execution_count": 7,
   "id": "e88645c8",
   "metadata": {},
   "outputs": [
    {
     "name": "stdout",
     "output_type": "stream",
     "text": [
      "data\n"
     ]
    }
   ],
   "source": [
    "print(data)"
   ]
  },
  {
   "cell_type": "code",
   "execution_count": null,
   "id": "ca8b6704-34c8-4caf-9c12-047821f7dd17",
   "metadata": {
    "jupyter": {
     "outputs_hidden": true,
     "source_hidden": true
    },
    "scrolled": true
   },
   "outputs": [],
   "source": [
    "# Load the GeoJSON content\n",
    "geojson_data = geojson.loads(prefectures.text)\n",
    "\n",
    "# Initialize an empty list to store all the coordinates\n",
    "all_coordinates = []\n",
    "\n",
    "# Extract coordinates from each feature\n",
    "for feature in geojson_data['features']:\n",
    "    coordinates = feature['geometry']['coordinates'][0]\n",
    "    all_coordinates.extend(coordinates)\n",
    "\n",
    "# Calculate the centroid of all coordinates\n",
    "centroid = shape({'type': 'Polygon', 'coordinates': [all_coordinates]}).centroid\n",
    "#center = [centroid.y, centroid.x]\n",
    "\n",
    "# Create a folium map centered on the calculated centroid\n",
    "#my_map = folium.Map(location=center, zoom_start=10)\n",
    "\n",
    "# Add GeoJSON features to the map\n",
    "#folium.GeoJson(geojson_data).add_to(my_map)\n",
    "\n",
    "# Display the map in Jupyter Notebook\n",
    "#my_map"
   ]
  },
  {
   "cell_type": "code",
   "execution_count": null,
   "id": "dec707d5-8813-48d1-89d2-4989b7720e58",
   "metadata": {
    "jupyter": {
     "outputs_hidden": true,
     "source_hidden": true
    },
    "scrolled": true
   },
   "outputs": [],
   "source": [
    "#corlen = 0\n",
    "corloc = 0\n",
    "for L in all_coordinates:\n",
    "    corloc = corloc + 1\n",
    "    if not isinstance(L[0], list):\n",
    "        print(corloc)\n",
    "        print(type(L[0]))\n",
    "#print(corlen)    \n",
    "#len(all_coordinates)[8710]"
   ]
  },
  {
   "cell_type": "code",
   "execution_count": null,
   "id": "c6b62d8b-8271-4f61-9d79-6a629a18f1b4",
   "metadata": {
    "scrolled": true
   },
   "outputs": [],
   "source": [
    "pref = pd.DataFrame(data={'En': ['Hokkaido', 'Aomori', 'Iwate', 'Miyagi', 'Akita', 'Yamagata', 'Fukushima', 'Ibaraki', 'Tochigi', 'Gunma', 'Saitama', \n",
    "                                 'Chiba', 'Tokyo', 'Kanagawa', 'Niigata', 'Toyama', 'Ishikawa', 'Fukui', 'Yamanashi', 'Nagano', 'Gifu', 'Shizuoka', \n",
    "                                 'Aichi', 'Mie', 'Shiga', 'Kyoto', 'Osaka', 'Hyogo', 'Nara', 'Wakayama', 'Tottori', 'Shimane', 'Okayama', 'Hiroshima', \n",
    "                                 'Yamaguchi', 'Tokushima', 'Kagawa', 'Ehime', 'Kochi', 'Fukuoka', 'Saga', 'Nagasaki', 'Kumamoto', 'Oita', 'Miyazaki', \n",
    "                                 'Kagoshima', 'Okinawa'], \n",
    "                          'Ja': ['北海道', '青森県', '岩手県', '宮城県', '秋田県', '山形県', '福島県', '茨城県', '栃木県', '群馬県', '埼玉県', '千葉県', \n",
    "                                 '東京都', '神奈川県', '新潟県', '富山県', '石川県', '福井県', '山梨県', '長野県', '岐阜県', '静岡県', '愛知県', '三重県', \n",
    "                                 '滋賀県', '京都府', '大阪府', '兵庫県', '奈良県', '和歌山県', '鳥取県', '島根県', '岡山県', '広島県', '山口県', '徳島県', \n",
    "                                 '香川県', '愛媛県', '高知県', '福岡県', '佐賀県', '長崎県', '熊本県', '大分県', '宮崎県', '鹿児島県', '沖縄県'], \n",
    "                          'ISO': ['JP-01', 'JP-02', 'JP-03', 'JP-04', 'JP-05', 'JP-06', 'JP-07', 'JP-08', 'JP-09', 'JP-10', 'JP-11', 'JP-12', 'JP-13', \n",
    "                                  'JP-14', 'JP-15', 'JP-16', 'JP-17', 'JP-18', 'JP-19', 'JP-20', 'JP-21', 'JP-22', 'JP-23', 'JP-24', 'JP-25', 'JP-26', \n",
    "                                  'JP-27', 'JP-28', 'JP-29', 'JP-30', 'JP-31', 'JP-32', 'JP-33', 'JP-34', 'JP-35', 'JP-36', 'JP-37', 'JP-38', 'JP-39', \n",
    "                                  'JP-40', 'JP-41', 'JP-42', 'JP-43', 'JP-44', 'JP-45', 'JP-46', 'JP-47']})\n",
    "\n",
    "joined_data = data.join(pref.set_index('Ja'), on='移動後の住所地（現住地）2020～', how='right')\n",
    "#data['移動後の住所地（現住地）2020～']['香川県']\n",
    "#data.filter(items=pref.keys())\n",
    "joined_data.sample(n=10)"
   ]
  },
  {
   "cell_type": "code",
   "execution_count": null,
   "id": "40c45999-b8d4-4fa5-a033-e6fa66e2ffe5",
   "metadata": {},
   "outputs": [],
   "source": [
    "features = japan_geojson['features']\n",
    "ids = sorted(set([feature['properties']['id'] for feature in features]))\n",
    "\n",
    "new_features = []\n",
    "\n",
    "for id in ids:\n",
    "    data = [feature['geometry']['coordinates'][0][0] for feature in features if feature['properties']['id'] == id]\n",
    "    if len(data) == 1:\n",
    "        feature = dict(type=\"Feature\", geometry=dict(type=\"Polygon\", coordinates=data[0]), properties=dict(id=id))\n",
    "    else:\n",
    "        feature = dict(type=\"Feature\", geometry=dict(type=\"MultiPolygon\", coordinates=data), properties=dict(id=id))\n",
    "    new_features.append(feature)\n",
    "\n",
    "japan_geojson['features'] = new_features"
   ]
  },
  {
   "cell_type": "code",
   "execution_count": null,
   "id": "f14f5723-9bc9-44d6-8f91-0afa05c4f397",
   "metadata": {},
   "outputs": [],
   "source": [
    "fig = px.choropleth(joined_data, geojson=japan_geojson, color=\"Value\", locations=\"ISO\", title = 'n Moved to loc')\n",
    "fig.update_geos(fitbounds=\"locations\")\n",
    "#fig.update_layout(margin={\"r\":0,\"t\":0,\"l\":0,\"b\":0})"
   ]
  },
  {
   "cell_type": "code",
   "execution_count": null,
   "id": "f75124bd",
   "metadata": {},
   "outputs": [],
   "source": [
    "fig.show()"
   ]
  },
  {
   "cell_type": "code",
   "execution_count": null,
   "id": "2dec2f61-bd11-4405-abfd-d0603b81a2bb",
   "metadata": {
    "scrolled": true
   },
   "outputs": [],
   "source": [
    "features = d['features']\n",
    "ids = sorted(set([d['id'] for d in features]))\n",
    "new_features = []\n",
    "for id in ids:\n",
    "    data = [d['geometry']['coordinates'] for d in features if d['id']==id]\n",
    "    if len(data) == 1:\n",
    "        feature = dict(type = \"Feature\", geometry = dict(type = \"Polygon\",coordinates = data[0]) id = id)\n",
    "    else:\n",
    "        feature = dict(type = \"Feature\", geometry = dict(type = \"MultiPolygon\", coordinates = data) id = id)\n",
    "    new_features.append(feature)\n",
    "d['features'] = new_features\n",
    "\n",
    "#with open('new_tokyo23.json', 'w') as f:\n",
    "#    json.dump(d, f)"
   ]
  },
  {
   "cell_type": "code",
   "execution_count": null,
   "id": "bbcd9d14-ba45-4f51-90df-ab207fb9e690",
   "metadata": {},
   "outputs": [],
   "source": []
  }
 ],
 "metadata": {
  "kernelspec": {
   "display_name": "Python 3 (ipykernel)",
   "language": "python",
   "name": "python3"
  },
  "language_info": {
   "codemirror_mode": {
    "name": "ipython",
    "version": 3
   },
   "file_extension": ".py",
   "mimetype": "text/x-python",
   "name": "python",
   "nbconvert_exporter": "python",
   "pygments_lexer": "ipython3",
   "version": "3.9.18"
  }
 },
 "nbformat": 4,
 "nbformat_minor": 5
}
