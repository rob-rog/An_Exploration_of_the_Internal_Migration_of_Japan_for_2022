{
 "cells": [
  {
   "cell_type": "code",
   "execution_count": 13,
   "id": "51bb260d",
   "metadata": {
    "scrolled": true
   },
   "outputs": [],
   "source": [
    "#!pip install jpstat\n",
    "#!pip install geojson\n",
    "#!pip install folium\n",
    "#!pip install shapely\n",
    "#!pip install plotly\n",
    "#!pip install topojson\n",
    "#!pip install chardet\n",
    "#!pip install geopandas\n",
    "import geopandas as gpd\n",
    "import topojson\n",
    "import jpstat\n",
    "import pandas as pd\n",
    "#import geojson\n",
    "import requests\n",
    "#import folium\n",
    "import plotly.express as px\n",
    "#from shapely.geometry import shape\n",
    "#from urllib.request import urlopen\n",
    "import json"
   ]
  },
  {
   "cell_type": "code",
   "execution_count": 2,
   "id": "6bef537b",
   "metadata": {},
   "outputs": [],
   "source": [
    "stat = jpstat.estat.get_stat(key='9172300186e42e3c1e0acd0ce205021a2f27f28b')\n",
    "jpstat.options[\"estat.api_key\"] = '9172300186e42e3c1e0acd0ce205021a2f27f28b'"
   ]
  },
  {
   "cell_type": "code",
   "execution_count": 3,
   "id": "9d12f67b",
   "metadata": {},
   "outputs": [
    {
     "name": "stdout",
     "output_type": "stream",
     "text": [
      ".."
     ]
    }
   ],
   "source": [
    "data, note = jpstat.estat.get_data(statsDataId=\"0004003462\")\n",
    "#data.sample(n=4)"
   ]
  },
  {
   "cell_type": "code",
   "execution_count": 18,
   "id": "67440b9c-6421-4c65-bc8f-1693afc14d92",
   "metadata": {},
   "outputs": [],
   "source": [
    "# Fetch the GeoJSON content from the URL\n",
    "#prefectures = requests.get(\n",
    "#    'https://raw.githubusercontent.com/dataofjapan/land/92934a149860bc23b529ccbeba1e8366b30b0c63/japan.geojson')\n",
    "\n",
    "#prefectures =  geojson.loads(prefectures.text)\n",
    "\n",
    "#japan_geojson_url = 'https://raw.githubusercontent.com/dataofjapan/land/92934a149860bc23b529ccbeba1e8366b30b0c63/japan.geojson'\n",
    "#japan_geojson = geojson.loads(requests.get(japan_geojson_url).text)\n",
    "\n",
    "# Fetch the TopoJSON content from the URL\n",
    "japan_topojson_url = 'https://raw.githubusercontent.com/dataofjapan/land/master/japan.topojson'\n",
    "japan_topojson_request = requests.get(japan_topojson_url).json()"
   ]
  },
  {
   "cell_type": "code",
   "execution_count": 20,
   "id": "967e0c20",
   "metadata": {},
   "outputs": [
    {
     "ename": "AttributeError",
     "evalue": "module 'topojson' has no attribute 'feature'",
     "output_type": "error",
     "traceback": [
      "\u001b[1;31m---------------------------------------------------------------------------\u001b[0m",
      "\u001b[1;31mAttributeError\u001b[0m                            Traceback (most recent call last)",
      "Cell \u001b[1;32mIn[20], line 2\u001b[0m\n\u001b[0;32m      1\u001b[0m \u001b[38;5;66;03m# Convert TopoJSON to GeoJSON\u001b[39;00m\n\u001b[1;32m----> 2\u001b[0m japan_geojson \u001b[38;5;241m=\u001b[39m \u001b[43mtopojson\u001b[49m\u001b[38;5;241;43m.\u001b[39;49m\u001b[43mfeature\u001b[49m(japan_topojson_request)\n",
      "\u001b[1;31mAttributeError\u001b[0m: module 'topojson' has no attribute 'feature'"
     ]
    }
   ],
   "source": [
    "# Convert TopoJSON to GeoJSON\n",
    "japan_geojson = topojson.feature(japan_topojson_request)"
   ]
  },
  {
   "cell_type": "code",
   "execution_count": null,
   "id": "c2cef0ea",
   "metadata": {},
   "outputs": [],
   "source": [
    "{\"type\":\"Topology\",\n",
    " \"objects\":{\"japan\":{\"type\":\"GeometryCollection\",\n",
    "                     \"geometries\":[{\"type\":\"MultiPolygon\",\n",
    "                                    \"properties\":{\"nam\":\"Kyoto Fu\",\n",
    "                                                  \"nam_ja\":\"京都府\",\n",
    "                                                  \"id\":26\n",
    "                                                 },\n",
    "                                    \"arcs\":[[[0,1,2,3,4,5,6]],\n",
    "                                            [[7]],\n",
    "                                            [[8]],\n",
    "                                            [[9]]\n",
    "                                           ]\n",
    "                                   },\n",
    ".\n",
    ".\n",
    ".\n",
    "                                   {\"type\":\"MultiPolygon\",\n",
    "                                    \"properties\":{\"nam\":\"Kanagawa Ken\",\n",
    "                                                  \"nam_ja\":\"神奈川県\",\n",
    "                                                  \"id\":14\n",
    "                                                 },\"arcs\":[[[-758,1097,-186,-148]],\n",
    ".\n",
    ".\n",
    ".\n",
    "                                                           [[1106]]\n",
    "                                                          ]\n",
    "                                   }\n",
    "                                  ]\n",
    "                    }\n",
    "           },\n",
    " \"arcs\":[[[3843,6061],\n",
    ".\n",
    ".\n",
    ".\n",
    "          [0,-1]\n",
    "         ]\n",
    "        ],\n",
    " \"transform\":{\"scale\":[0.0031056478262341284,0.002513710446271541],\n",
    "              \"translate\":[122.93349314581921,20.422740332935973]\n",
    "             }\n",
    "}"
   ]
  },
  {
   "cell_type": "code",
   "execution_count": 6,
   "id": "ed450cd9",
   "metadata": {},
   "outputs": [
    {
     "ename": "AttributeError",
     "evalue": "module 'topojson' has no attribute 'topology'",
     "output_type": "error",
     "traceback": [
      "\u001b[1;31m---------------------------------------------------------------------------\u001b[0m",
      "\u001b[1;31mAttributeError\u001b[0m                            Traceback (most recent call last)",
      "Cell \u001b[1;32mIn[6], line 2\u001b[0m\n\u001b[0;32m      1\u001b[0m \u001b[38;5;66;03m# Convert TopoJSON to GeoJSON\u001b[39;00m\n\u001b[1;32m----> 2\u001b[0m japan_topojson \u001b[38;5;241m=\u001b[39m \u001b[43mtp\u001b[49m\u001b[38;5;241;43m.\u001b[39;49m\u001b[43mtopology\u001b[49m(japan_topojson_request)\n\u001b[0;32m      4\u001b[0m features \u001b[38;5;241m=\u001b[39m japan_topojson[\u001b[38;5;124m'\u001b[39m\u001b[38;5;124mfeatures\u001b[39m\u001b[38;5;124m'\u001b[39m]\n\u001b[0;32m      5\u001b[0m ids \u001b[38;5;241m=\u001b[39m \u001b[38;5;28msorted\u001b[39m(\u001b[38;5;28mset\u001b[39m([feature[\u001b[38;5;124m'\u001b[39m\u001b[38;5;124mproperties\u001b[39m\u001b[38;5;124m'\u001b[39m][\u001b[38;5;124m'\u001b[39m\u001b[38;5;124mid\u001b[39m\u001b[38;5;124m'\u001b[39m] \u001b[38;5;28;01mfor\u001b[39;00m feature \u001b[38;5;129;01min\u001b[39;00m features]))\n",
      "\u001b[1;31mAttributeError\u001b[0m: module 'topojson' has no attribute 'topology'"
     ]
    }
   ],
   "source": [
    "# Convert TopoJSON to GeoJSON\n",
    "japan_topojson = tp.topology(japan_topojson_request)\n",
    "\n",
    "features = japan_topojson['features']\n",
    "ids = sorted(set([feature['properties']['id'] for feature in features]))\n",
    "\n",
    "new_features = []\n",
    "\n",
    "for id in ids:\n",
    "    data = [feature['geometry']['coordinates'][0][0] for feature in features if feature['properties']['id'] == id]\n",
    "    \n",
    "    if len(data) == 1:\n",
    "        feature = dict(type=\"Feature\", geometry=dict(type=\"Polygon\", coordinates=data[0]), properties=dict(id=id))\n",
    "    else:\n",
    "        feature = dict(type=\"Feature\", geometry=dict(type=\"MultiPolygon\", coordinates=data), properties=dict(id=id))\n",
    "    \n",
    "    new_features.append(feature)\n",
    "\n",
    "japan_topojson['features'] = new_features"
   ]
  },
  {
   "cell_type": "code",
   "execution_count": 7,
   "id": "e88645c8",
   "metadata": {},
   "outputs": [
    {
     "name": "stdout",
     "output_type": "stream",
     "text": [
      "data\n"
     ]
    }
   ],
   "source": [
    "print(data)"
   ]
  },
  {
   "cell_type": "code",
   "execution_count": null,
   "id": "ca8b6704-34c8-4caf-9c12-047821f7dd17",
   "metadata": {
    "jupyter": {
     "outputs_hidden": true,
     "source_hidden": true
    },
    "scrolled": true
   },
   "outputs": [],
   "source": [
    "# Load the GeoJSON content\n",
    "geojson_data = geojson.loads(prefectures.text)\n",
    "\n",
    "# Initialize an empty list to store all the coordinates\n",
    "all_coordinates = []\n",
    "\n",
    "# Extract coordinates from each feature\n",
    "for feature in geojson_data['features']:\n",
    "    coordinates = feature['geometry']['coordinates'][0]\n",
    "    all_coordinates.extend(coordinates)\n",
    "\n",
    "# Calculate the centroid of all coordinates\n",
    "centroid = shape({'type': 'Polygon', 'coordinates': [all_coordinates]}).centroid\n",
    "#center = [centroid.y, centroid.x]\n",
    "\n",
    "# Create a folium map centered on the calculated centroid\n",
    "#my_map = folium.Map(location=center, zoom_start=10)\n",
    "\n",
    "# Add GeoJSON features to the map\n",
    "#folium.GeoJson(geojson_data).add_to(my_map)\n",
    "\n",
    "# Display the map in Jupyter Notebook\n",
    "#my_map"
   ]
  },
  {
   "cell_type": "code",
   "execution_count": null,
   "id": "dec707d5-8813-48d1-89d2-4989b7720e58",
   "metadata": {
    "jupyter": {
     "outputs_hidden": true,
     "source_hidden": true
    },
    "scrolled": true
   },
   "outputs": [],
   "source": [
    "#corlen = 0\n",
    "corloc = 0\n",
    "for L in all_coordinates:\n",
    "    corloc = corloc + 1\n",
    "    if not isinstance(L[0], list):\n",
    "        print(corloc)\n",
    "        print(type(L[0]))\n",
    "#print(corlen)    \n",
    "#len(all_coordinates)[8710]"
   ]
  },
  {
   "cell_type": "code",
   "execution_count": null,
   "id": "c6b62d8b-8271-4f61-9d79-6a629a18f1b4",
   "metadata": {
    "scrolled": true
   },
   "outputs": [],
   "source": [
    "pref = pd.DataFrame(data={'En': ['Hokkaido', 'Aomori', 'Iwate', 'Miyagi', 'Akita', 'Yamagata', 'Fukushima', 'Ibaraki', 'Tochigi', 'Gunma', 'Saitama', \n",
    "                                 'Chiba', 'Tokyo', 'Kanagawa', 'Niigata', 'Toyama', 'Ishikawa', 'Fukui', 'Yamanashi', 'Nagano', 'Gifu', 'Shizuoka', \n",
    "                                 'Aichi', 'Mie', 'Shiga', 'Kyoto', 'Osaka', 'Hyogo', 'Nara', 'Wakayama', 'Tottori', 'Shimane', 'Okayama', 'Hiroshima', \n",
    "                                 'Yamaguchi', 'Tokushima', 'Kagawa', 'Ehime', 'Kochi', 'Fukuoka', 'Saga', 'Nagasaki', 'Kumamoto', 'Oita', 'Miyazaki', \n",
    "                                 'Kagoshima', 'Okinawa'], \n",
    "                          'Ja': ['北海道', '青森県', '岩手県', '宮城県', '秋田県', '山形県', '福島県', '茨城県', '栃木県', '群馬県', '埼玉県', '千葉県', \n",
    "                                 '東京都', '神奈川県', '新潟県', '富山県', '石川県', '福井県', '山梨県', '長野県', '岐阜県', '静岡県', '愛知県', '三重県', \n",
    "                                 '滋賀県', '京都府', '大阪府', '兵庫県', '奈良県', '和歌山県', '鳥取県', '島根県', '岡山県', '広島県', '山口県', '徳島県', \n",
    "                                 '香川県', '愛媛県', '高知県', '福岡県', '佐賀県', '長崎県', '熊本県', '大分県', '宮崎県', '鹿児島県', '沖縄県'], \n",
    "                          'ISO': ['JP-01', 'JP-02', 'JP-03', 'JP-04', 'JP-05', 'JP-06', 'JP-07', 'JP-08', 'JP-09', 'JP-10', 'JP-11', 'JP-12', 'JP-13', \n",
    "                                  'JP-14', 'JP-15', 'JP-16', 'JP-17', 'JP-18', 'JP-19', 'JP-20', 'JP-21', 'JP-22', 'JP-23', 'JP-24', 'JP-25', 'JP-26', \n",
    "                                  'JP-27', 'JP-28', 'JP-29', 'JP-30', 'JP-31', 'JP-32', 'JP-33', 'JP-34', 'JP-35', 'JP-36', 'JP-37', 'JP-38', 'JP-39', \n",
    "                                  'JP-40', 'JP-41', 'JP-42', 'JP-43', 'JP-44', 'JP-45', 'JP-46', 'JP-47']})\n",
    "\n",
    "joined_data = data.join(pref.set_index('Ja'), on='移動後の住所地（現住地）2020～', how='right')\n",
    "#data['移動後の住所地（現住地）2020～']['香川県']\n",
    "#data.filter(items=pref.keys())\n",
    "joined_data.sample(n=10)"
   ]
  },
  {
   "cell_type": "code",
   "execution_count": null,
   "id": "40c45999-b8d4-4fa5-a033-e6fa66e2ffe5",
   "metadata": {},
   "outputs": [],
   "source": [
    "features = japan_geojson['features']\n",
    "ids = sorted(set([feature['properties']['id'] for feature in features]))\n",
    "\n",
    "new_features = []\n",
    "\n",
    "for id in ids:\n",
    "    data = [feature['geometry']['coordinates'][0][0] for feature in features if feature['properties']['id'] == id]\n",
    "    if len(data) == 1:\n",
    "        feature = dict(type=\"Feature\", geometry=dict(type=\"Polygon\", coordinates=data[0]), properties=dict(id=id))\n",
    "    else:\n",
    "        feature = dict(type=\"Feature\", geometry=dict(type=\"MultiPolygon\", coordinates=data), properties=dict(id=id))\n",
    "    new_features.append(feature)\n",
    "\n",
    "japan_geojson['features'] = new_features"
   ]
  },
  {
   "cell_type": "code",
   "execution_count": null,
   "id": "f14f5723-9bc9-44d6-8f91-0afa05c4f397",
   "metadata": {},
   "outputs": [],
   "source": [
    "fig = px.choropleth(joined_data, geojson=japan_geojson, color=\"Value\", locations=\"ISO\", title = 'n Moved to loc')\n",
    "fig.update_geos(fitbounds=\"locations\")\n",
    "#fig.update_layout(margin={\"r\":0,\"t\":0,\"l\":0,\"b\":0})"
   ]
  },
  {
   "cell_type": "code",
   "execution_count": null,
   "id": "f75124bd",
   "metadata": {},
   "outputs": [],
   "source": [
    "fig.show()"
   ]
  },
  {
   "cell_type": "code",
   "execution_count": null,
   "id": "2dec2f61-bd11-4405-abfd-d0603b81a2bb",
   "metadata": {
    "scrolled": true
   },
   "outputs": [],
   "source": [
    "features = d['features']\n",
    "ids = sorted(set([d['id'] for d in features]))\n",
    "new_features = []\n",
    "for id in ids:\n",
    "    data = [d['geometry']['coordinates'] for d in features if d['id']==id]\n",
    "    if len(data) == 1:\n",
    "        feature = dict(type = \"Feature\", geometry = dict(type = \"Polygon\",coordinates = data[0]) id = id)\n",
    "    else:\n",
    "        feature = dict(type = \"Feature\", geometry = dict(type = \"MultiPolygon\", coordinates = data) id = id)\n",
    "    new_features.append(feature)\n",
    "d['features'] = new_features\n",
    "\n",
    "#with open('new_tokyo23.json', 'w') as f:\n",
    "#    json.dump(d, f)"
   ]
  },
  {
   "cell_type": "code",
   "execution_count": null,
   "id": "bbcd9d14-ba45-4f51-90df-ab207fb9e690",
   "metadata": {},
   "outputs": [],
   "source": []
  }
 ],
 "metadata": {
  "kernelspec": {
   "display_name": "Python 3 (ipykernel)",
   "language": "python",
   "name": "python3"
  },
  "language_info": {
   "codemirror_mode": {
    "name": "ipython",
    "version": 3
   },
   "file_extension": ".py",
   "mimetype": "text/x-python",
   "name": "python",
   "nbconvert_exporter": "python",
   "pygments_lexer": "ipython3",
   "version": "3.9.18"
  }
 },
 "nbformat": 4,
 "nbformat_minor": 5
}
