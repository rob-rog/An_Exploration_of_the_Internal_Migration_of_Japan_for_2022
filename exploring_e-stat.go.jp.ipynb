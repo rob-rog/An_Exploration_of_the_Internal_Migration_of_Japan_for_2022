{
 "cells": [
  {
   "cell_type": "code",
   "execution_count": 1,
   "id": "51bb260d",
   "metadata": {
    "collapsed": true
   },
   "outputs": [
    {
     "name": "stdout",
     "output_type": "stream",
     "text": [
      "Requirement already satisfied: jpstat in c:\\download\\anaconda\\envs\\python_3_9_18\\lib\\site-packages (0.0.5)\n",
      "Requirement already satisfied: pandas<2.0,>=1.0 in c:\\download\\anaconda\\envs\\python_3_9_18\\lib\\site-packages (from jpstat) (1.5.3)\n",
      "Requirement already satisfied: requests<3.0,>=2.0 in c:\\download\\anaconda\\envs\\python_3_9_18\\lib\\site-packages (from jpstat) (2.31.0)\n",
      "Requirement already satisfied: requests_html<0.11.0,>=0.10.0 in c:\\download\\anaconda\\envs\\python_3_9_18\\lib\\site-packages (from jpstat) (0.10.0)\n",
      "Requirement already satisfied: python-dateutil>=2.8.1 in c:\\download\\anaconda\\envs\\python_3_9_18\\lib\\site-packages (from pandas<2.0,>=1.0->jpstat) (2.8.2)\n",
      "Requirement already satisfied: pytz>=2020.1 in c:\\download\\anaconda\\envs\\python_3_9_18\\lib\\site-packages (from pandas<2.0,>=1.0->jpstat) (2023.3.post1)\n",
      "Requirement already satisfied: numpy>=1.20.3 in c:\\download\\anaconda\\envs\\python_3_9_18\\lib\\site-packages (from pandas<2.0,>=1.0->jpstat) (1.26.1)\n",
      "Requirement already satisfied: charset-normalizer<4,>=2 in c:\\download\\anaconda\\envs\\python_3_9_18\\lib\\site-packages (from requests<3.0,>=2.0->jpstat) (3.3.2)\n",
      "Requirement already satisfied: idna<4,>=2.5 in c:\\download\\anaconda\\envs\\python_3_9_18\\lib\\site-packages (from requests<3.0,>=2.0->jpstat) (3.4)\n",
      "Requirement already satisfied: urllib3<3,>=1.21.1 in c:\\download\\anaconda\\envs\\python_3_9_18\\lib\\site-packages (from requests<3.0,>=2.0->jpstat) (1.26.18)\n",
      "Requirement already satisfied: certifi>=2017.4.17 in c:\\download\\anaconda\\envs\\python_3_9_18\\lib\\site-packages (from requests<3.0,>=2.0->jpstat) (2023.7.22)\n",
      "Requirement already satisfied: pyquery in c:\\download\\anaconda\\envs\\python_3_9_18\\lib\\site-packages (from requests_html<0.11.0,>=0.10.0->jpstat) (2.0.0)\n",
      "Requirement already satisfied: fake-useragent in c:\\download\\anaconda\\envs\\python_3_9_18\\lib\\site-packages (from requests_html<0.11.0,>=0.10.0->jpstat) (1.3.0)\n",
      "Requirement already satisfied: parse in c:\\download\\anaconda\\envs\\python_3_9_18\\lib\\site-packages (from requests_html<0.11.0,>=0.10.0->jpstat) (1.19.1)\n",
      "Requirement already satisfied: bs4 in c:\\download\\anaconda\\envs\\python_3_9_18\\lib\\site-packages (from requests_html<0.11.0,>=0.10.0->jpstat) (0.0.1)\n",
      "Requirement already satisfied: w3lib in c:\\download\\anaconda\\envs\\python_3_9_18\\lib\\site-packages (from requests_html<0.11.0,>=0.10.0->jpstat) (2.1.2)\n",
      "Requirement already satisfied: pyppeteer>=0.0.14 in c:\\download\\anaconda\\envs\\python_3_9_18\\lib\\site-packages (from requests_html<0.11.0,>=0.10.0->jpstat) (1.0.2)\n",
      "Requirement already satisfied: appdirs<2.0.0,>=1.4.3 in c:\\download\\anaconda\\envs\\python_3_9_18\\lib\\site-packages (from pyppeteer>=0.0.14->requests_html<0.11.0,>=0.10.0->jpstat) (1.4.4)\n",
      "Requirement already satisfied: importlib-metadata>=1.4 in c:\\download\\anaconda\\envs\\python_3_9_18\\lib\\site-packages (from pyppeteer>=0.0.14->requests_html<0.11.0,>=0.10.0->jpstat) (6.0.0)\n",
      "Requirement already satisfied: pyee<9.0.0,>=8.1.0 in c:\\download\\anaconda\\envs\\python_3_9_18\\lib\\site-packages (from pyppeteer>=0.0.14->requests_html<0.11.0,>=0.10.0->jpstat) (8.2.2)\n",
      "Requirement already satisfied: tqdm<5.0.0,>=4.42.1 in c:\\download\\anaconda\\envs\\python_3_9_18\\lib\\site-packages (from pyppeteer>=0.0.14->requests_html<0.11.0,>=0.10.0->jpstat) (4.66.1)\n",
      "Requirement already satisfied: websockets<11.0,>=10.0 in c:\\download\\anaconda\\envs\\python_3_9_18\\lib\\site-packages (from pyppeteer>=0.0.14->requests_html<0.11.0,>=0.10.0->jpstat) (10.4)\n",
      "Requirement already satisfied: six>=1.5 in c:\\download\\anaconda\\envs\\python_3_9_18\\lib\\site-packages (from python-dateutil>=2.8.1->pandas<2.0,>=1.0->jpstat) (1.16.0)\n",
      "Requirement already satisfied: beautifulsoup4 in c:\\download\\anaconda\\envs\\python_3_9_18\\lib\\site-packages (from bs4->requests_html<0.11.0,>=0.10.0->jpstat) (4.12.2)\n",
      "Requirement already satisfied: importlib-resources>=5.0 in c:\\download\\anaconda\\envs\\python_3_9_18\\lib\\site-packages (from fake-useragent->requests_html<0.11.0,>=0.10.0->jpstat) (6.1.1)\n",
      "Requirement already satisfied: lxml>=2.1 in c:\\download\\anaconda\\envs\\python_3_9_18\\lib\\site-packages (from pyquery->requests_html<0.11.0,>=0.10.0->jpstat) (4.9.3)\n",
      "Requirement already satisfied: cssselect>=1.2.0 in c:\\download\\anaconda\\envs\\python_3_9_18\\lib\\site-packages (from pyquery->requests_html<0.11.0,>=0.10.0->jpstat) (1.2.0)\n",
      "Requirement already satisfied: zipp>=0.5 in c:\\download\\anaconda\\envs\\python_3_9_18\\lib\\site-packages (from importlib-metadata>=1.4->pyppeteer>=0.0.14->requests_html<0.11.0,>=0.10.0->jpstat) (3.11.0)\n",
      "Requirement already satisfied: colorama in c:\\download\\anaconda\\envs\\python_3_9_18\\lib\\site-packages (from tqdm<5.0.0,>=4.42.1->pyppeteer>=0.0.14->requests_html<0.11.0,>=0.10.0->jpstat) (0.4.6)\n",
      "Requirement already satisfied: soupsieve>1.2 in c:\\download\\anaconda\\envs\\python_3_9_18\\lib\\site-packages (from beautifulsoup4->bs4->requests_html<0.11.0,>=0.10.0->jpstat) (2.5)\n"
     ]
    }
   ],
   "source": [
    "!pip install jpstat\n",
    "import jpstat\n",
    "import pandas as pd"
   ]
  },
  {
   "cell_type": "code",
   "execution_count": 2,
   "id": "6bef537b",
   "metadata": {},
   "outputs": [],
   "source": [
    "stat = jpstat.estat.get_stat(key='9172300186e42e3c1e0acd0ce205021a2f27f28b')\n",
    "jpstat.options[\"estat.api_key\"] = '9172300186e42e3c1e0acd0ce205021a2f27f28b'"
   ]
  },
  {
   "cell_type": "code",
   "execution_count": 3,
   "id": "72dbfd09",
   "metadata": {
    "collapsed": true
   },
   "outputs": [
    {
     "data": {
      "text/html": [
       "<div>\n",
       "<style scoped>\n",
       "    .dataframe tbody tr th:only-of-type {\n",
       "        vertical-align: middle;\n",
       "    }\n",
       "\n",
       "    .dataframe tbody tr th {\n",
       "        vertical-align: top;\n",
       "    }\n",
       "\n",
       "    .dataframe thead th {\n",
       "        text-align: right;\n",
       "    }\n",
       "</style>\n",
       "<table border=\"1\" class=\"dataframe\">\n",
       "  <thead>\n",
       "    <tr style=\"text-align: right;\">\n",
       "      <th></th>\n",
       "      <th>@id</th>\n",
       "      <th>STAT_NAME</th>\n",
       "      <th>GOV_ORG</th>\n",
       "    </tr>\n",
       "  </thead>\n",
       "  <tbody>\n",
       "    <tr>\n",
       "      <th>0</th>\n",
       "      <td>00020111</td>\n",
       "      <td>民間企業の勤務条件制度等調査</td>\n",
       "      <td>人事院</td>\n",
       "    </tr>\n",
       "    <tr>\n",
       "      <th>1</th>\n",
       "      <td>00020112</td>\n",
       "      <td>国家公務員死因調査</td>\n",
       "      <td>人事院</td>\n",
       "    </tr>\n",
       "    <tr>\n",
       "      <th>2</th>\n",
       "      <td>00020131</td>\n",
       "      <td>国家公務員災害補償統計</td>\n",
       "      <td>人事院</td>\n",
       "    </tr>\n",
       "    <tr>\n",
       "      <th>3</th>\n",
       "      <td>00020151</td>\n",
       "      <td>退職公務員生活状況調査</td>\n",
       "      <td>人事院</td>\n",
       "    </tr>\n",
       "    <tr>\n",
       "      <th>4</th>\n",
       "      <td>00020211</td>\n",
       "      <td>一般職の国家公務員の任用状況調査</td>\n",
       "      <td>人事院</td>\n",
       "    </tr>\n",
       "    <tr>\n",
       "      <th>...</th>\n",
       "      <td>...</td>\n",
       "      <td>...</td>\n",
       "      <td>...</td>\n",
       "    </tr>\n",
       "    <tr>\n",
       "      <th>276</th>\n",
       "      <td>00650401</td>\n",
       "      <td>家庭からの二酸化炭素排出量の推計に係る実態調査 試験調査</td>\n",
       "      <td>環境省</td>\n",
       "    </tr>\n",
       "    <tr>\n",
       "      <th>277</th>\n",
       "      <td>00650402</td>\n",
       "      <td>環境保健サーベイランス調査</td>\n",
       "      <td>環境省</td>\n",
       "    </tr>\n",
       "    <tr>\n",
       "      <th>278</th>\n",
       "      <td>00650405</td>\n",
       "      <td>食品廃棄物等の発生抑制及び再生利用の促進の取組に係る実態調査</td>\n",
       "      <td>環境省</td>\n",
       "    </tr>\n",
       "    <tr>\n",
       "      <th>279</th>\n",
       "      <td>00650408</td>\n",
       "      <td>家庭部門のCO2排出実態統計調査</td>\n",
       "      <td>環境省</td>\n",
       "    </tr>\n",
       "    <tr>\n",
       "      <th>280</th>\n",
       "      <td>00700001</td>\n",
       "      <td>駐留軍関係離職者帰すう状況調査</td>\n",
       "      <td>防衛省</td>\n",
       "    </tr>\n",
       "  </tbody>\n",
       "</table>\n",
       "<p>281 rows × 3 columns</p>\n",
       "</div>"
      ],
      "text/plain": [
       "          @id                       STAT_NAME GOV_ORG\n",
       "0    00020111                  民間企業の勤務条件制度等調査     人事院\n",
       "1    00020112                       国家公務員死因調査     人事院\n",
       "2    00020131                     国家公務員災害補償統計     人事院\n",
       "3    00020151                     退職公務員生活状況調査     人事院\n",
       "4    00020211                一般職の国家公務員の任用状況調査     人事院\n",
       "..        ...                             ...     ...\n",
       "276  00650401    家庭からの二酸化炭素排出量の推計に係る実態調査 試験調査     環境省\n",
       "277  00650402                   環境保健サーベイランス調査     環境省\n",
       "278  00650405  食品廃棄物等の発生抑制及び再生利用の促進の取組に係る実態調査     環境省\n",
       "279  00650408                家庭部門のCO2排出実態統計調査     環境省\n",
       "280  00700001                 駐留軍関係離職者帰すう状況調査     防衛省\n",
       "\n",
       "[281 rows x 3 columns]"
      ]
     },
     "execution_count": 3,
     "metadata": {},
     "output_type": "execute_result"
    }
   ],
   "source": [
    "stat"
   ]
  },
  {
   "cell_type": "code",
   "execution_count": 8,
   "id": "9d12f67b",
   "metadata": {},
   "outputs": [
    {
     "name": "stdout",
     "output_type": "stream",
     "text": [
      ".."
     ]
    }
   ],
   "source": [
    "data, note = jpstat.estat.get_data(statsDataId=\"0004003462\")"
   ]
  },
  {
   "cell_type": "code",
   "execution_count": 9,
   "id": "8dbcd71c",
   "metadata": {
    "scrolled": false
   },
   "outputs": [
    {
     "data": {
      "text/plain": [
       "pandas.core.frame.DataFrame"
      ]
     },
     "execution_count": 9,
     "metadata": {},
     "output_type": "execute_result"
    }
   ],
   "source": [
    "type(data)"
   ]
  },
  {
   "cell_type": "code",
   "execution_count": 10,
   "id": "502d229f",
   "metadata": {
    "scrolled": true
   },
   "outputs": [
    {
     "data": {
      "text/html": [
       "<div>\n",
       "<style scoped>\n",
       "    .dataframe tbody tr th:only-of-type {\n",
       "        vertical-align: middle;\n",
       "    }\n",
       "\n",
       "    .dataframe tbody tr th {\n",
       "        vertical-align: top;\n",
       "    }\n",
       "\n",
       "    .dataframe thead th {\n",
       "        text-align: right;\n",
       "    }\n",
       "</style>\n",
       "<table border=\"1\" class=\"dataframe\">\n",
       "  <thead>\n",
       "    <tr style=\"text-align: right;\">\n",
       "      <th></th>\n",
       "      <th>@char</th>\n",
       "      <th>EXPLAIN</th>\n",
       "    </tr>\n",
       "  </thead>\n",
       "  <tbody>\n",
       "    <tr>\n",
       "      <th>0</th>\n",
       "      <td>***</td>\n",
       "      <td>調査していないため該当数値がないもの</td>\n",
       "    </tr>\n",
       "    <tr>\n",
       "      <th>1</th>\n",
       "      <td>-</td>\n",
       "      <td>定義上該当数値がないもの</td>\n",
       "    </tr>\n",
       "  </tbody>\n",
       "</table>\n",
       "</div>"
      ],
      "text/plain": [
       "  @char             EXPLAIN\n",
       "0   ***  調査していないため該当数値がないもの\n",
       "1     -        定義上該当数値がないもの"
      ]
     },
     "execution_count": 10,
     "metadata": {},
     "output_type": "execute_result"
    }
   ],
   "source": [
    "note"
   ]
  },
  {
   "cell_type": "code",
   "execution_count": 11,
   "id": "a9e2b218",
   "metadata": {
    "scrolled": true
   },
   "outputs": [
    {
     "data": {
      "text/html": [
       "<div>\n",
       "<style scoped>\n",
       "    .dataframe tbody tr th:only-of-type {\n",
       "        vertical-align: middle;\n",
       "    }\n",
       "\n",
       "    .dataframe tbody tr th {\n",
       "        vertical-align: top;\n",
       "    }\n",
       "\n",
       "    .dataframe thead th {\n",
       "        text-align: right;\n",
       "    }\n",
       "</style>\n",
       "<table border=\"1\" class=\"dataframe\">\n",
       "  <thead>\n",
       "    <tr style=\"text-align: right;\">\n",
       "      <th></th>\n",
       "      <th>@unit</th>\n",
       "      <th>表章項目</th>\n",
       "      <th>移動後の住所地（現住地）2020～</th>\n",
       "      <th>国籍</th>\n",
       "      <th>移動前の住所地（前住地）2020～</th>\n",
       "      <th>時間軸</th>\n",
       "      <th>Value</th>\n",
       "    </tr>\n",
       "  </thead>\n",
       "  <tbody>\n",
       "    <tr>\n",
       "      <th>0</th>\n",
       "      <td>人</td>\n",
       "      <td>移動前の住所地別転入者数</td>\n",
       "      <td>北海道</td>\n",
       "      <td>移動者</td>\n",
       "      <td>総数(前住地)</td>\n",
       "      <td>2022年</td>\n",
       "      <td>234214</td>\n",
       "    </tr>\n",
       "    <tr>\n",
       "      <th>1</th>\n",
       "      <td>人</td>\n",
       "      <td>移動前の住所地別転入者数</td>\n",
       "      <td>北海道</td>\n",
       "      <td>移動者</td>\n",
       "      <td>北海道</td>\n",
       "      <td>2022年</td>\n",
       "      <td>179799</td>\n",
       "    </tr>\n",
       "    <tr>\n",
       "      <th>2</th>\n",
       "      <td>人</td>\n",
       "      <td>移動前の住所地別転入者数</td>\n",
       "      <td>北海道</td>\n",
       "      <td>移動者</td>\n",
       "      <td>札幌市</td>\n",
       "      <td>2022年</td>\n",
       "      <td>81662</td>\n",
       "    </tr>\n",
       "    <tr>\n",
       "      <th>3</th>\n",
       "      <td>人</td>\n",
       "      <td>移動前の住所地別転入者数</td>\n",
       "      <td>北海道</td>\n",
       "      <td>移動者</td>\n",
       "      <td>中央区</td>\n",
       "      <td>2022年</td>\n",
       "      <td>11696</td>\n",
       "    </tr>\n",
       "    <tr>\n",
       "      <th>4</th>\n",
       "      <td>人</td>\n",
       "      <td>移動前の住所地別転入者数</td>\n",
       "      <td>北海道</td>\n",
       "      <td>移動者</td>\n",
       "      <td>北区</td>\n",
       "      <td>2022年</td>\n",
       "      <td>10606</td>\n",
       "    </tr>\n",
       "  </tbody>\n",
       "</table>\n",
       "</div>"
      ],
      "text/plain": [
       "  @unit          表章項目 移動後の住所地（現住地）2020～   国籍 移動前の住所地（前住地）2020～    時間軸   Value\n",
       "0     人  移動前の住所地別転入者数               北海道  移動者           総数(前住地)  2022年  234214\n",
       "1     人  移動前の住所地別転入者数               北海道  移動者               北海道  2022年  179799\n",
       "2     人  移動前の住所地別転入者数               北海道  移動者               札幌市  2022年   81662\n",
       "3     人  移動前の住所地別転入者数               北海道  移動者               中央区  2022年   11696\n",
       "4     人  移動前の住所地別転入者数               北海道  移動者                北区  2022年   10606"
      ]
     },
     "execution_count": 11,
     "metadata": {},
     "output_type": "execute_result"
    }
   ],
   "source": [
    "data.head(5)"
   ]
  },
  {
   "cell_type": "code",
   "execution_count": null,
   "id": "a9949f40",
   "metadata": {},
   "outputs": [],
   "source": []
  }
 ],
 "metadata": {
  "kernelspec": {
   "display_name": "Python 3 (ipykernel)",
   "language": "python",
   "name": "python3"
  },
  "language_info": {
   "codemirror_mode": {
    "name": "ipython",
    "version": 3
   },
   "file_extension": ".py",
   "mimetype": "text/x-python",
   "name": "python",
   "nbconvert_exporter": "python",
   "pygments_lexer": "ipython3",
   "version": "3.9.18"
  }
 },
 "nbformat": 4,
 "nbformat_minor": 5
}
