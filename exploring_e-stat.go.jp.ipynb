{
 "cells": [
  {
   "cell_type": "code",
   "execution_count": 9,
   "id": "51bb260d",
   "metadata": {
    "scrolled": true
   },
   "outputs": [
    {
     "name": "stdout",
     "output_type": "stream",
     "text": [
      "Requirement already satisfied: jpstat in c:\\downloads\\apps\\anaconda3\\envs\\python_3_9_18\\lib\\site-packages (0.0.5)\n",
      "Requirement already satisfied: pandas<2.0,>=1.0 in c:\\downloads\\apps\\anaconda3\\envs\\python_3_9_18\\lib\\site-packages (from jpstat) (1.5.3)\n",
      "Requirement already satisfied: requests<3.0,>=2.0 in c:\\downloads\\apps\\anaconda3\\envs\\python_3_9_18\\lib\\site-packages (from jpstat) (2.31.0)\n",
      "Requirement already satisfied: requests_html<0.11.0,>=0.10.0 in c:\\downloads\\apps\\anaconda3\\envs\\python_3_9_18\\lib\\site-packages (from jpstat) (0.10.0)\n",
      "Requirement already satisfied: python-dateutil>=2.8.1 in c:\\downloads\\apps\\anaconda3\\envs\\python_3_9_18\\lib\\site-packages (from pandas<2.0,>=1.0->jpstat) (2.8.2)\n",
      "Requirement already satisfied: pytz>=2020.1 in c:\\downloads\\apps\\anaconda3\\envs\\python_3_9_18\\lib\\site-packages (from pandas<2.0,>=1.0->jpstat) (2023.3.post1)\n",
      "Requirement already satisfied: numpy>=1.20.3 in c:\\downloads\\apps\\anaconda3\\envs\\python_3_9_18\\lib\\site-packages (from pandas<2.0,>=1.0->jpstat) (1.26.2)\n",
      "Requirement already satisfied: charset-normalizer<4,>=2 in c:\\downloads\\apps\\anaconda3\\envs\\python_3_9_18\\lib\\site-packages (from requests<3.0,>=2.0->jpstat) (3.3.2)\n",
      "Requirement already satisfied: idna<4,>=2.5 in c:\\downloads\\apps\\anaconda3\\envs\\python_3_9_18\\lib\\site-packages (from requests<3.0,>=2.0->jpstat) (3.6)\n",
      "Requirement already satisfied: urllib3<3,>=1.21.1 in c:\\downloads\\apps\\anaconda3\\envs\\python_3_9_18\\lib\\site-packages (from requests<3.0,>=2.0->jpstat) (1.26.18)\n",
      "Requirement already satisfied: certifi>=2017.4.17 in c:\\downloads\\apps\\anaconda3\\envs\\python_3_9_18\\lib\\site-packages (from requests<3.0,>=2.0->jpstat) (2023.11.17)\n",
      "Requirement already satisfied: pyquery in c:\\downloads\\apps\\anaconda3\\envs\\python_3_9_18\\lib\\site-packages (from requests_html<0.11.0,>=0.10.0->jpstat) (2.0.0)\n",
      "Requirement already satisfied: fake-useragent in c:\\downloads\\apps\\anaconda3\\envs\\python_3_9_18\\lib\\site-packages (from requests_html<0.11.0,>=0.10.0->jpstat) (1.4.0)\n",
      "Requirement already satisfied: parse in c:\\downloads\\apps\\anaconda3\\envs\\python_3_9_18\\lib\\site-packages (from requests_html<0.11.0,>=0.10.0->jpstat) (1.20.0)\n",
      "Requirement already satisfied: bs4 in c:\\downloads\\apps\\anaconda3\\envs\\python_3_9_18\\lib\\site-packages (from requests_html<0.11.0,>=0.10.0->jpstat) (0.0.1)\n",
      "Requirement already satisfied: w3lib in c:\\downloads\\apps\\anaconda3\\envs\\python_3_9_18\\lib\\site-packages (from requests_html<0.11.0,>=0.10.0->jpstat) (2.1.2)\n",
      "Requirement already satisfied: pyppeteer>=0.0.14 in c:\\downloads\\apps\\anaconda3\\envs\\python_3_9_18\\lib\\site-packages (from requests_html<0.11.0,>=0.10.0->jpstat) (1.0.2)\n",
      "Requirement already satisfied: appdirs<2.0.0,>=1.4.3 in c:\\downloads\\apps\\anaconda3\\envs\\python_3_9_18\\lib\\site-packages (from pyppeteer>=0.0.14->requests_html<0.11.0,>=0.10.0->jpstat) (1.4.4)\n",
      "Requirement already satisfied: importlib-metadata>=1.4 in c:\\downloads\\apps\\anaconda3\\envs\\python_3_9_18\\lib\\site-packages (from pyppeteer>=0.0.14->requests_html<0.11.0,>=0.10.0->jpstat) (7.0.0)\n",
      "Requirement already satisfied: pyee<9.0.0,>=8.1.0 in c:\\downloads\\apps\\anaconda3\\envs\\python_3_9_18\\lib\\site-packages (from pyppeteer>=0.0.14->requests_html<0.11.0,>=0.10.0->jpstat) (8.2.2)\n",
      "Requirement already satisfied: tqdm<5.0.0,>=4.42.1 in c:\\downloads\\apps\\anaconda3\\envs\\python_3_9_18\\lib\\site-packages (from pyppeteer>=0.0.14->requests_html<0.11.0,>=0.10.0->jpstat) (4.66.1)\n",
      "Requirement already satisfied: websockets<11.0,>=10.0 in c:\\downloads\\apps\\anaconda3\\envs\\python_3_9_18\\lib\\site-packages (from pyppeteer>=0.0.14->requests_html<0.11.0,>=0.10.0->jpstat) (10.4)\n",
      "Requirement already satisfied: six>=1.5 in c:\\downloads\\apps\\anaconda3\\envs\\python_3_9_18\\lib\\site-packages (from python-dateutil>=2.8.1->pandas<2.0,>=1.0->jpstat) (1.16.0)\n",
      "Requirement already satisfied: beautifulsoup4 in c:\\downloads\\apps\\anaconda3\\envs\\python_3_9_18\\lib\\site-packages (from bs4->requests_html<0.11.0,>=0.10.0->jpstat) (4.12.2)\n",
      "Requirement already satisfied: importlib-resources>=5.0 in c:\\downloads\\apps\\anaconda3\\envs\\python_3_9_18\\lib\\site-packages (from fake-useragent->requests_html<0.11.0,>=0.10.0->jpstat) (6.1.1)\n",
      "Requirement already satisfied: lxml>=2.1 in c:\\downloads\\apps\\anaconda3\\envs\\python_3_9_18\\lib\\site-packages (from pyquery->requests_html<0.11.0,>=0.10.0->jpstat) (4.9.3)\n",
      "Requirement already satisfied: cssselect>=1.2.0 in c:\\downloads\\apps\\anaconda3\\envs\\python_3_9_18\\lib\\site-packages (from pyquery->requests_html<0.11.0,>=0.10.0->jpstat) (1.2.0)\n",
      "Requirement already satisfied: zipp>=0.5 in c:\\downloads\\apps\\anaconda3\\envs\\python_3_9_18\\lib\\site-packages (from importlib-metadata>=1.4->pyppeteer>=0.0.14->requests_html<0.11.0,>=0.10.0->jpstat) (3.17.0)\n",
      "Requirement already satisfied: colorama in c:\\downloads\\apps\\anaconda3\\envs\\python_3_9_18\\lib\\site-packages (from tqdm<5.0.0,>=4.42.1->pyppeteer>=0.0.14->requests_html<0.11.0,>=0.10.0->jpstat) (0.4.6)\n",
      "Requirement already satisfied: soupsieve>1.2 in c:\\downloads\\apps\\anaconda3\\envs\\python_3_9_18\\lib\\site-packages (from beautifulsoup4->bs4->requests_html<0.11.0,>=0.10.0->jpstat) (2.5)\n",
      "Requirement already satisfied: geojson in c:\\downloads\\apps\\anaconda3\\envs\\python_3_9_18\\lib\\site-packages (3.1.0)\n"
     ]
    }
   ],
   "source": [
    "!pip install jpstat\n",
    "!pip install geojson\n",
    "import jpstat\n",
    "import pandas as pd\n",
    "import json\n",
    "from urllib.request import urlopen"
   ]
  },
  {
   "cell_type": "code",
   "execution_count": 2,
   "id": "6bef537b",
   "metadata": {},
   "outputs": [],
   "source": [
    "stat = jpstat.estat.get_stat(key='9172300186e42e3c1e0acd0ce205021a2f27f28b')\n",
    "jpstat.options[\"estat.api_key\"] = '9172300186e42e3c1e0acd0ce205021a2f27f28b'"
   ]
  },
  {
   "cell_type": "code",
   "execution_count": 3,
   "id": "72dbfd09",
   "metadata": {
    "scrolled": true
   },
   "outputs": [
    {
     "data": {
      "text/html": [
       "<div>\n",
       "<style scoped>\n",
       "    .dataframe tbody tr th:only-of-type {\n",
       "        vertical-align: middle;\n",
       "    }\n",
       "\n",
       "    .dataframe tbody tr th {\n",
       "        vertical-align: top;\n",
       "    }\n",
       "\n",
       "    .dataframe thead th {\n",
       "        text-align: right;\n",
       "    }\n",
       "</style>\n",
       "<table border=\"1\" class=\"dataframe\">\n",
       "  <thead>\n",
       "    <tr style=\"text-align: right;\">\n",
       "      <th></th>\n",
       "      <th>@id</th>\n",
       "      <th>STAT_NAME</th>\n",
       "      <th>GOV_ORG</th>\n",
       "    </tr>\n",
       "  </thead>\n",
       "  <tbody>\n",
       "    <tr>\n",
       "      <th>0</th>\n",
       "      <td>00020111</td>\n",
       "      <td>民間企業の勤務条件制度等調査</td>\n",
       "      <td>人事院</td>\n",
       "    </tr>\n",
       "    <tr>\n",
       "      <th>1</th>\n",
       "      <td>00020112</td>\n",
       "      <td>国家公務員死因調査</td>\n",
       "      <td>人事院</td>\n",
       "    </tr>\n",
       "    <tr>\n",
       "      <th>2</th>\n",
       "      <td>00020131</td>\n",
       "      <td>国家公務員災害補償統計</td>\n",
       "      <td>人事院</td>\n",
       "    </tr>\n",
       "    <tr>\n",
       "      <th>3</th>\n",
       "      <td>00020151</td>\n",
       "      <td>退職公務員生活状況調査</td>\n",
       "      <td>人事院</td>\n",
       "    </tr>\n",
       "    <tr>\n",
       "      <th>4</th>\n",
       "      <td>00020211</td>\n",
       "      <td>一般職の国家公務員の任用状況調査</td>\n",
       "      <td>人事院</td>\n",
       "    </tr>\n",
       "    <tr>\n",
       "      <th>...</th>\n",
       "      <td>...</td>\n",
       "      <td>...</td>\n",
       "      <td>...</td>\n",
       "    </tr>\n",
       "    <tr>\n",
       "      <th>276</th>\n",
       "      <td>00650401</td>\n",
       "      <td>家庭からの二酸化炭素排出量の推計に係る実態調査 試験調査</td>\n",
       "      <td>環境省</td>\n",
       "    </tr>\n",
       "    <tr>\n",
       "      <th>277</th>\n",
       "      <td>00650402</td>\n",
       "      <td>環境保健サーベイランス調査</td>\n",
       "      <td>環境省</td>\n",
       "    </tr>\n",
       "    <tr>\n",
       "      <th>278</th>\n",
       "      <td>00650405</td>\n",
       "      <td>食品廃棄物等の発生抑制及び再生利用の促進の取組に係る実態調査</td>\n",
       "      <td>環境省</td>\n",
       "    </tr>\n",
       "    <tr>\n",
       "      <th>279</th>\n",
       "      <td>00650408</td>\n",
       "      <td>家庭部門のCO2排出実態統計調査</td>\n",
       "      <td>環境省</td>\n",
       "    </tr>\n",
       "    <tr>\n",
       "      <th>280</th>\n",
       "      <td>00700001</td>\n",
       "      <td>駐留軍関係離職者帰すう状況調査</td>\n",
       "      <td>防衛省</td>\n",
       "    </tr>\n",
       "  </tbody>\n",
       "</table>\n",
       "<p>281 rows × 3 columns</p>\n",
       "</div>"
      ],
      "text/plain": [
       "          @id                       STAT_NAME GOV_ORG\n",
       "0    00020111                  民間企業の勤務条件制度等調査     人事院\n",
       "1    00020112                       国家公務員死因調査     人事院\n",
       "2    00020131                     国家公務員災害補償統計     人事院\n",
       "3    00020151                     退職公務員生活状況調査     人事院\n",
       "4    00020211                一般職の国家公務員の任用状況調査     人事院\n",
       "..        ...                             ...     ...\n",
       "276  00650401    家庭からの二酸化炭素排出量の推計に係る実態調査 試験調査     環境省\n",
       "277  00650402                   環境保健サーベイランス調査     環境省\n",
       "278  00650405  食品廃棄物等の発生抑制及び再生利用の促進の取組に係る実態調査     環境省\n",
       "279  00650408                家庭部門のCO2排出実態統計調査     環境省\n",
       "280  00700001                 駐留軍関係離職者帰すう状況調査     防衛省\n",
       "\n",
       "[281 rows x 3 columns]"
      ]
     },
     "execution_count": 3,
     "metadata": {},
     "output_type": "execute_result"
    }
   ],
   "source": [
    "stat"
   ]
  },
  {
   "cell_type": "code",
   "execution_count": 4,
   "id": "9d12f67b",
   "metadata": {},
   "outputs": [
    {
     "name": "stdout",
     "output_type": "stream",
     "text": [
      ".."
     ]
    }
   ],
   "source": [
    "data, note = jpstat.estat.get_data(statsDataId=\"0004003462\")"
   ]
  },
  {
   "cell_type": "code",
   "execution_count": 5,
   "id": "8dbcd71c",
   "metadata": {},
   "outputs": [
    {
     "data": {
      "text/plain": [
       "pandas.core.frame.DataFrame"
      ]
     },
     "execution_count": 5,
     "metadata": {},
     "output_type": "execute_result"
    }
   ],
   "source": [
    "type(data)"
   ]
  },
  {
   "cell_type": "code",
   "execution_count": 6,
   "id": "502d229f",
   "metadata": {
    "scrolled": true
   },
   "outputs": [
    {
     "data": {
      "text/html": [
       "<div>\n",
       "<style scoped>\n",
       "    .dataframe tbody tr th:only-of-type {\n",
       "        vertical-align: middle;\n",
       "    }\n",
       "\n",
       "    .dataframe tbody tr th {\n",
       "        vertical-align: top;\n",
       "    }\n",
       "\n",
       "    .dataframe thead th {\n",
       "        text-align: right;\n",
       "    }\n",
       "</style>\n",
       "<table border=\"1\" class=\"dataframe\">\n",
       "  <thead>\n",
       "    <tr style=\"text-align: right;\">\n",
       "      <th></th>\n",
       "      <th>@char</th>\n",
       "      <th>EXPLAIN</th>\n",
       "    </tr>\n",
       "  </thead>\n",
       "  <tbody>\n",
       "    <tr>\n",
       "      <th>0</th>\n",
       "      <td>***</td>\n",
       "      <td>調査していないため該当数値がないもの</td>\n",
       "    </tr>\n",
       "    <tr>\n",
       "      <th>1</th>\n",
       "      <td>-</td>\n",
       "      <td>定義上該当数値がないもの</td>\n",
       "    </tr>\n",
       "  </tbody>\n",
       "</table>\n",
       "</div>"
      ],
      "text/plain": [
       "  @char             EXPLAIN\n",
       "0   ***  調査していないため該当数値がないもの\n",
       "1     -        定義上該当数値がないもの"
      ]
     },
     "execution_count": 6,
     "metadata": {},
     "output_type": "execute_result"
    }
   ],
   "source": [
    "note"
   ]
  },
  {
   "cell_type": "code",
   "execution_count": 7,
   "id": "a9e2b218",
   "metadata": {
    "scrolled": true
   },
   "outputs": [
    {
     "data": {
      "text/html": [
       "<div>\n",
       "<style scoped>\n",
       "    .dataframe tbody tr th:only-of-type {\n",
       "        vertical-align: middle;\n",
       "    }\n",
       "\n",
       "    .dataframe tbody tr th {\n",
       "        vertical-align: top;\n",
       "    }\n",
       "\n",
       "    .dataframe thead th {\n",
       "        text-align: right;\n",
       "    }\n",
       "</style>\n",
       "<table border=\"1\" class=\"dataframe\">\n",
       "  <thead>\n",
       "    <tr style=\"text-align: right;\">\n",
       "      <th></th>\n",
       "      <th>@unit</th>\n",
       "      <th>表章項目</th>\n",
       "      <th>移動後の住所地（現住地）2020～</th>\n",
       "      <th>国籍</th>\n",
       "      <th>移動前の住所地（前住地）2020～</th>\n",
       "      <th>時間軸</th>\n",
       "      <th>Value</th>\n",
       "    </tr>\n",
       "  </thead>\n",
       "  <tbody>\n",
       "    <tr>\n",
       "      <th>0</th>\n",
       "      <td>人</td>\n",
       "      <td>移動前の住所地別転入者数</td>\n",
       "      <td>北海道</td>\n",
       "      <td>移動者</td>\n",
       "      <td>総数(前住地)</td>\n",
       "      <td>2022年</td>\n",
       "      <td>234214</td>\n",
       "    </tr>\n",
       "    <tr>\n",
       "      <th>1</th>\n",
       "      <td>人</td>\n",
       "      <td>移動前の住所地別転入者数</td>\n",
       "      <td>北海道</td>\n",
       "      <td>移動者</td>\n",
       "      <td>北海道</td>\n",
       "      <td>2022年</td>\n",
       "      <td>179799</td>\n",
       "    </tr>\n",
       "    <tr>\n",
       "      <th>2</th>\n",
       "      <td>人</td>\n",
       "      <td>移動前の住所地別転入者数</td>\n",
       "      <td>北海道</td>\n",
       "      <td>移動者</td>\n",
       "      <td>札幌市</td>\n",
       "      <td>2022年</td>\n",
       "      <td>81662</td>\n",
       "    </tr>\n",
       "    <tr>\n",
       "      <th>3</th>\n",
       "      <td>人</td>\n",
       "      <td>移動前の住所地別転入者数</td>\n",
       "      <td>北海道</td>\n",
       "      <td>移動者</td>\n",
       "      <td>中央区</td>\n",
       "      <td>2022年</td>\n",
       "      <td>11696</td>\n",
       "    </tr>\n",
       "    <tr>\n",
       "      <th>4</th>\n",
       "      <td>人</td>\n",
       "      <td>移動前の住所地別転入者数</td>\n",
       "      <td>北海道</td>\n",
       "      <td>移動者</td>\n",
       "      <td>北区</td>\n",
       "      <td>2022年</td>\n",
       "      <td>10606</td>\n",
       "    </tr>\n",
       "  </tbody>\n",
       "</table>\n",
       "</div>"
      ],
      "text/plain": [
       "  @unit          表章項目 移動後の住所地（現住地）2020～   国籍 移動前の住所地（前住地）2020～    時間軸   Value\n",
       "0     人  移動前の住所地別転入者数               北海道  移動者           総数(前住地)  2022年  234214\n",
       "1     人  移動前の住所地別転入者数               北海道  移動者               北海道  2022年  179799\n",
       "2     人  移動前の住所地別転入者数               北海道  移動者               札幌市  2022年   81662\n",
       "3     人  移動前の住所地別転入者数               北海道  移動者               中央区  2022年   11696\n",
       "4     人  移動前の住所地別転入者数               北海道  移動者                北区  2022年   10606"
      ]
     },
     "execution_count": 7,
     "metadata": {},
     "output_type": "execute_result"
    }
   ],
   "source": [
    "data.head(5)"
   ]
  },
  {
   "cell_type": "code",
   "execution_count": 10,
   "id": "a9949f40",
   "metadata": {},
   "outputs": [
    {
     "ename": "JSONDecodeError",
     "evalue": "Expecting value: line 7 column 1 (char 6)",
     "output_type": "error",
     "traceback": [
      "\u001b[1;31m---------------------------------------------------------------------------\u001b[0m",
      "\u001b[1;31mJSONDecodeError\u001b[0m                           Traceback (most recent call last)",
      "Cell \u001b[1;32mIn[10], line 2\u001b[0m\n\u001b[0;32m      1\u001b[0m \u001b[38;5;28;01mwith\u001b[39;00m urlopen(\u001b[38;5;124m'\u001b[39m\u001b[38;5;124mhttps://github.com/dataofjapan/land/blob/92934a149860bc23b529ccbeba1e8366b30b0c63/japan.geojson\u001b[39m\u001b[38;5;124m'\u001b[39m) \u001b[38;5;28;01mas\u001b[39;00m response:\n\u001b[1;32m----> 2\u001b[0m     prefectures \u001b[38;5;241m=\u001b[39m \u001b[43mjson\u001b[49m\u001b[38;5;241;43m.\u001b[39;49m\u001b[43mload\u001b[49m\u001b[43m(\u001b[49m\u001b[43mresponse\u001b[49m\u001b[43m)\u001b[49m\n",
      "File \u001b[1;32mC:\\Downloads\\Apps\\Anaconda3\\envs\\python_3_9_18\\lib\\json\\__init__.py:293\u001b[0m, in \u001b[0;36mload\u001b[1;34m(fp, cls, object_hook, parse_float, parse_int, parse_constant, object_pairs_hook, **kw)\u001b[0m\n\u001b[0;32m    274\u001b[0m \u001b[38;5;28;01mdef\u001b[39;00m \u001b[38;5;21mload\u001b[39m(fp, \u001b[38;5;241m*\u001b[39m, \u001b[38;5;28mcls\u001b[39m\u001b[38;5;241m=\u001b[39m\u001b[38;5;28;01mNone\u001b[39;00m, object_hook\u001b[38;5;241m=\u001b[39m\u001b[38;5;28;01mNone\u001b[39;00m, parse_float\u001b[38;5;241m=\u001b[39m\u001b[38;5;28;01mNone\u001b[39;00m,\n\u001b[0;32m    275\u001b[0m         parse_int\u001b[38;5;241m=\u001b[39m\u001b[38;5;28;01mNone\u001b[39;00m, parse_constant\u001b[38;5;241m=\u001b[39m\u001b[38;5;28;01mNone\u001b[39;00m, object_pairs_hook\u001b[38;5;241m=\u001b[39m\u001b[38;5;28;01mNone\u001b[39;00m, \u001b[38;5;241m*\u001b[39m\u001b[38;5;241m*\u001b[39mkw):\n\u001b[0;32m    276\u001b[0m \u001b[38;5;250m    \u001b[39m\u001b[38;5;124;03m\"\"\"Deserialize ``fp`` (a ``.read()``-supporting file-like object containing\u001b[39;00m\n\u001b[0;32m    277\u001b[0m \u001b[38;5;124;03m    a JSON document) to a Python object.\u001b[39;00m\n\u001b[0;32m    278\u001b[0m \n\u001b[1;32m   (...)\u001b[0m\n\u001b[0;32m    291\u001b[0m \u001b[38;5;124;03m    kwarg; otherwise ``JSONDecoder`` is used.\u001b[39;00m\n\u001b[0;32m    292\u001b[0m \u001b[38;5;124;03m    \"\"\"\u001b[39;00m\n\u001b[1;32m--> 293\u001b[0m     \u001b[38;5;28;01mreturn\u001b[39;00m loads(fp\u001b[38;5;241m.\u001b[39mread(),\n\u001b[0;32m    294\u001b[0m         \u001b[38;5;28mcls\u001b[39m\u001b[38;5;241m=\u001b[39m\u001b[38;5;28mcls\u001b[39m, object_hook\u001b[38;5;241m=\u001b[39mobject_hook,\n\u001b[0;32m    295\u001b[0m         parse_float\u001b[38;5;241m=\u001b[39mparse_float, parse_int\u001b[38;5;241m=\u001b[39mparse_int,\n\u001b[0;32m    296\u001b[0m         parse_constant\u001b[38;5;241m=\u001b[39mparse_constant, object_pairs_hook\u001b[38;5;241m=\u001b[39mobject_pairs_hook, \u001b[38;5;241m*\u001b[39m\u001b[38;5;241m*\u001b[39mkw)\n",
      "File \u001b[1;32mC:\\Downloads\\Apps\\Anaconda3\\envs\\python_3_9_18\\lib\\json\\__init__.py:346\u001b[0m, in \u001b[0;36mloads\u001b[1;34m(s, cls, object_hook, parse_float, parse_int, parse_constant, object_pairs_hook, **kw)\u001b[0m\n\u001b[0;32m    341\u001b[0m     s \u001b[38;5;241m=\u001b[39m s\u001b[38;5;241m.\u001b[39mdecode(detect_encoding(s), \u001b[38;5;124m'\u001b[39m\u001b[38;5;124msurrogatepass\u001b[39m\u001b[38;5;124m'\u001b[39m)\n\u001b[0;32m    343\u001b[0m \u001b[38;5;28;01mif\u001b[39;00m (\u001b[38;5;28mcls\u001b[39m \u001b[38;5;129;01mis\u001b[39;00m \u001b[38;5;28;01mNone\u001b[39;00m \u001b[38;5;129;01mand\u001b[39;00m object_hook \u001b[38;5;129;01mis\u001b[39;00m \u001b[38;5;28;01mNone\u001b[39;00m \u001b[38;5;129;01mand\u001b[39;00m\n\u001b[0;32m    344\u001b[0m         parse_int \u001b[38;5;129;01mis\u001b[39;00m \u001b[38;5;28;01mNone\u001b[39;00m \u001b[38;5;129;01mand\u001b[39;00m parse_float \u001b[38;5;129;01mis\u001b[39;00m \u001b[38;5;28;01mNone\u001b[39;00m \u001b[38;5;129;01mand\u001b[39;00m\n\u001b[0;32m    345\u001b[0m         parse_constant \u001b[38;5;129;01mis\u001b[39;00m \u001b[38;5;28;01mNone\u001b[39;00m \u001b[38;5;129;01mand\u001b[39;00m object_pairs_hook \u001b[38;5;129;01mis\u001b[39;00m \u001b[38;5;28;01mNone\u001b[39;00m \u001b[38;5;129;01mand\u001b[39;00m \u001b[38;5;129;01mnot\u001b[39;00m kw):\n\u001b[1;32m--> 346\u001b[0m     \u001b[38;5;28;01mreturn\u001b[39;00m \u001b[43m_default_decoder\u001b[49m\u001b[38;5;241;43m.\u001b[39;49m\u001b[43mdecode\u001b[49m\u001b[43m(\u001b[49m\u001b[43ms\u001b[49m\u001b[43m)\u001b[49m\n\u001b[0;32m    347\u001b[0m \u001b[38;5;28;01mif\u001b[39;00m \u001b[38;5;28mcls\u001b[39m \u001b[38;5;129;01mis\u001b[39;00m \u001b[38;5;28;01mNone\u001b[39;00m:\n\u001b[0;32m    348\u001b[0m     \u001b[38;5;28mcls\u001b[39m \u001b[38;5;241m=\u001b[39m JSONDecoder\n",
      "File \u001b[1;32mC:\\Downloads\\Apps\\Anaconda3\\envs\\python_3_9_18\\lib\\json\\decoder.py:337\u001b[0m, in \u001b[0;36mJSONDecoder.decode\u001b[1;34m(self, s, _w)\u001b[0m\n\u001b[0;32m    332\u001b[0m \u001b[38;5;28;01mdef\u001b[39;00m \u001b[38;5;21mdecode\u001b[39m(\u001b[38;5;28mself\u001b[39m, s, _w\u001b[38;5;241m=\u001b[39mWHITESPACE\u001b[38;5;241m.\u001b[39mmatch):\n\u001b[0;32m    333\u001b[0m \u001b[38;5;250m    \u001b[39m\u001b[38;5;124;03m\"\"\"Return the Python representation of ``s`` (a ``str`` instance\u001b[39;00m\n\u001b[0;32m    334\u001b[0m \u001b[38;5;124;03m    containing a JSON document).\u001b[39;00m\n\u001b[0;32m    335\u001b[0m \n\u001b[0;32m    336\u001b[0m \u001b[38;5;124;03m    \"\"\"\u001b[39;00m\n\u001b[1;32m--> 337\u001b[0m     obj, end \u001b[38;5;241m=\u001b[39m \u001b[38;5;28;43mself\u001b[39;49m\u001b[38;5;241;43m.\u001b[39;49m\u001b[43mraw_decode\u001b[49m\u001b[43m(\u001b[49m\u001b[43ms\u001b[49m\u001b[43m,\u001b[49m\u001b[43m \u001b[49m\u001b[43midx\u001b[49m\u001b[38;5;241;43m=\u001b[39;49m\u001b[43m_w\u001b[49m\u001b[43m(\u001b[49m\u001b[43ms\u001b[49m\u001b[43m,\u001b[49m\u001b[43m \u001b[49m\u001b[38;5;241;43m0\u001b[39;49m\u001b[43m)\u001b[49m\u001b[38;5;241;43m.\u001b[39;49m\u001b[43mend\u001b[49m\u001b[43m(\u001b[49m\u001b[43m)\u001b[49m\u001b[43m)\u001b[49m\n\u001b[0;32m    338\u001b[0m     end \u001b[38;5;241m=\u001b[39m _w(s, end)\u001b[38;5;241m.\u001b[39mend()\n\u001b[0;32m    339\u001b[0m     \u001b[38;5;28;01mif\u001b[39;00m end \u001b[38;5;241m!=\u001b[39m \u001b[38;5;28mlen\u001b[39m(s):\n",
      "File \u001b[1;32mC:\\Downloads\\Apps\\Anaconda3\\envs\\python_3_9_18\\lib\\json\\decoder.py:355\u001b[0m, in \u001b[0;36mJSONDecoder.raw_decode\u001b[1;34m(self, s, idx)\u001b[0m\n\u001b[0;32m    353\u001b[0m     obj, end \u001b[38;5;241m=\u001b[39m \u001b[38;5;28mself\u001b[39m\u001b[38;5;241m.\u001b[39mscan_once(s, idx)\n\u001b[0;32m    354\u001b[0m \u001b[38;5;28;01mexcept\u001b[39;00m \u001b[38;5;167;01mStopIteration\u001b[39;00m \u001b[38;5;28;01mas\u001b[39;00m err:\n\u001b[1;32m--> 355\u001b[0m     \u001b[38;5;28;01mraise\u001b[39;00m JSONDecodeError(\u001b[38;5;124m\"\u001b[39m\u001b[38;5;124mExpecting value\u001b[39m\u001b[38;5;124m\"\u001b[39m, s, err\u001b[38;5;241m.\u001b[39mvalue) \u001b[38;5;28;01mfrom\u001b[39;00m \u001b[38;5;28;01mNone\u001b[39;00m\n\u001b[0;32m    356\u001b[0m \u001b[38;5;28;01mreturn\u001b[39;00m obj, end\n",
      "\u001b[1;31mJSONDecodeError\u001b[0m: Expecting value: line 7 column 1 (char 6)"
     ]
    }
   ],
   "source": [
    "with urlopen('https://github.com/dataofjapan/land/blob/92934a149860bc23b529ccbeba1e8366b30b0c63/japan.geojson') as response:\n",
    "    prefectures = json.load(response)"
   ]
  },
  {
   "cell_type": "code",
   "execution_count": null,
   "id": "ca8b6704-34c8-4caf-9c12-047821f7dd17",
   "metadata": {},
   "outputs": [],
   "source": []
  }
 ],
 "metadata": {
  "kernelspec": {
   "display_name": "Python 3 (ipykernel)",
   "language": "python",
   "name": "python3"
  },
  "language_info": {
   "codemirror_mode": {
    "name": "ipython",
    "version": 3
   },
   "file_extension": ".py",
   "mimetype": "text/x-python",
   "name": "python",
   "nbconvert_exporter": "python",
   "pygments_lexer": "ipython3",
   "version": "3.9.18"
  }
 },
 "nbformat": 4,
 "nbformat_minor": 5
}
